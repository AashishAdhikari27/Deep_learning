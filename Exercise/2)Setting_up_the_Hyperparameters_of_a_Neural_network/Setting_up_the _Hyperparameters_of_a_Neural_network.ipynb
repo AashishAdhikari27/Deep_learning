{
 "cells": [
  {
   "cell_type": "code",
   "execution_count": null,
   "id": "6cc3bcb3-01f8-41d9-8190-f043376dff35",
   "metadata": {},
   "outputs": [],
   "source": [
    "model = keras.models.Sequential([\n",
    "keras.layers.Flatten(input_shape=[28,28]),\n",
    "keras.layers.Dense(300, activation = \"relu\", kernel_initializer = \"he_normal\"),\n",
    "keras.layers.Dense(100, activation = \"relu\", kernel_regularizer = keras.regularizers.l2(0.01)),\n",
    "keras.layers.Dropout(rate=0.2),\n",
    "keras.layers.Dense(10, activation = \"softmax\")\n",
    "])\n",
    "        "
   ]
  },
  {
   "cell_type": "code",
   "execution_count": null,
   "id": "27301265-da3f-452c-8584-6444966b09c2",
   "metadata": {},
   "outputs": [],
   "source": [
    "# compile garda ekkaichoti optimier select pani garna sakinxa\n",
    "\n",
    "model.compile(loss=\"sparse_categorical_crossentropy\", metrics=[\"accuracy\"], optimizer='sgd')\n",
    "\n",
    "# tara yesari optimizer banayera tesko ()\n",
    "\n",
    "opt = keras.optimizers.Adam(learning_rate=0.01)\n",
    "model.compile(loss='categorical_crossentropy', optimizer=opt)\n"
   ]
  },
  {
   "cell_type": "code",
   "execution_count": null,
   "id": "cba4c726-116f-45f3-952a-23e053ea2ea1",
   "metadata": {},
   "outputs": [],
   "source": [
    "history = model.fit(X_train, y_train, epochs=30, validation_data = (X_valid, y_valid), batch_size=32)"
   ]
  },
  {
   "cell_type": "markdown",
   "id": "a186fe2a-0b3f-4d73-9247-4dfd6689f5c0",
   "metadata": {
    "tags": []
   },
   "source": [
    "weight initializers :[https://keras.io/api/layers/initializers/](https://keras.io/api/layers/initializers/)\n",
    "\n",
    "\n",
    "regularization : [https://keras.io/api/layers/regularizers/](https://keras.io/api/layers/regularizers/)\n",
    "\n",
    "\n",
    "regularization layers:[ https://keras.io/api/layers/regularization_layers/](https://keras.io/api/layers/regularization_layers/)\n",
    "\n",
    "\n",
    "loss function :[ https://keras.io/api/losses/](https://keras.io/api/losses/)\n",
    "\n",
    "\n",
    "activation function :[https://keras.io/api/layers/activations/](https://keras.io/api/layers/activations/)\n",
    "\n",
    "\n",
    "optimizer : [https://keras.io/api/optimizers/](https://keras.io/api/optimizers/)\n"
   ]
  },
  {
   "cell_type": "raw",
   "id": "8d6cfb30-4fbb-4310-be53-7410d31b89ce",
   "metadata": {},
   "source": []
  }
 ],
 "metadata": {
  "kernelspec": {
   "display_name": "tfenv",
   "language": "python",
   "name": "myenv"
  },
  "language_info": {
   "codemirror_mode": {
    "name": "ipython",
    "version": 3
   },
   "file_extension": ".py",
   "mimetype": "text/x-python",
   "name": "python",
   "nbconvert_exporter": "python",
   "pygments_lexer": "ipython3",
   "version": "3.7.16"
  }
 },
 "nbformat": 4,
 "nbformat_minor": 5
}
