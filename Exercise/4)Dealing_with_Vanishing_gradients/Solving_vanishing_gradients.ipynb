{
 "cells": [
  {
   "cell_type": "markdown",
   "id": "40d845f2-a038-4603-8bb5-8d5f1d2ed53d",
   "metadata": {},
   "source": [
    "# Dealing with unstable gradient problem in keras"
   ]
  },
  {
   "cell_type": "code",
   "execution_count": 13,
   "id": "154ac13b-a44b-4277-afa5-d4e0fff4254b",
   "metadata": {},
   "outputs": [],
   "source": [
    "import tensorflow as tf\n",
    "from tensorflow import keras\n",
    "\n",
    "## https://www.tensorflow.org/api_docs/python/tf/keras"
   ]
  },
  {
   "cell_type": "code",
   "execution_count": 3,
   "id": "bae2b794-2467-4cee-a986-dc04153423a6",
   "metadata": {},
   "outputs": [],
   "source": [
    "\n",
    "mnist = keras.datasets.mnist\n",
    "(X_train_full, y_train_full),(X_test,y_test) = mnist.load_data()\n"
   ]
  },
  {
   "cell_type": "code",
   "execution_count": 4,
   "id": "7245cd1e-cd20-478c-bb2d-7c03967ed439",
   "metadata": {},
   "outputs": [],
   "source": [
    "\n",
    "X_valid, X_train = X_train_full[:5000] / 255, X_train_full[5000:]/255\n",
    "y_valid, y_train = y_train_full[:5000], y_train_full[5000:]\n",
    "X_test = X_test/255\n"
   ]
  },
  {
   "cell_type": "markdown",
   "id": "6f02f2d5-5a37-432d-8db8-a47c5de8d8e8",
   "metadata": {},
   "source": [
    "# 1)Changing initializers and activation functions"
   ]
  },
  {
   "cell_type": "code",
   "execution_count": 6,
   "id": "bab7dace-04a9-4b50-9f1d-4d0bd4492027",
   "metadata": {},
   "outputs": [],
   "source": [
    "model = keras.models.Sequential([\n",
    "    keras.layers.Flatten(input_shape=[28,28]),\n",
    "    keras.layers.Dense(100, activation = \"relu\", kernel_initializer = \"he_normal\"),\n",
    "    keras.layers.Dense(300, activation = \"selu\", kernel_initializer = \"lecun_uniform\"),\n",
    "    keras.layers.Dense(10, activation = \"softmax\")])\n",
    "\n",
    "# yesma Kernel_initializer specify garena vane auto nai glorat uniform initialization use vako hunxa"
   ]
  },
  {
   "cell_type": "markdown",
   "id": "d8d8f3fd-560f-48b0-a285-3cc7261ba538",
   "metadata": {},
   "source": [
    "# 2) Batch Normalization "
   ]
  },
  {
   "cell_type": "code",
   "execution_count": 7,
   "id": "d71ddd62-949e-4b11-9d45-c6da815e6b45",
   "metadata": {},
   "outputs": [],
   "source": [
    "\n",
    "model = keras.models.Sequential([\n",
    "    keras.layers.Flatten(input_shape=[28,28]),\n",
    "    keras.layers.BatchNormalization(),\n",
    "    keras.layers.Dense(100, activation = \"relu\"),\n",
    "    keras.layers.BatchNormalization(),\n",
    "    keras.layers.Dense(300, activation = \"relu\"),\n",
    "    keras.layers.BatchNormalization(),\n",
    "    keras.layers.Dense(10, activation = \"softmax\")])\n"
   ]
  },
  {
   "cell_type": "code",
   "execution_count": 9,
   "id": "71b4217a-cbec-4673-b9a0-610c3a62aa58",
   "metadata": {},
   "outputs": [
    {
     "name": "stdout",
     "output_type": "stream",
     "text": [
      "Model: \"sequential_2\"\n",
      "_________________________________________________________________\n",
      " Layer (type)                Output Shape              Param #   \n",
      "=================================================================\n",
      " flatten_2 (Flatten)         (None, 784)               0         \n",
      "                                                                 \n",
      " batch_normalization (BatchN  (None, 784)              3136      \n",
      " ormalization)                                                   \n",
      "                                                                 \n",
      " dense_6 (Dense)             (None, 100)               78500     \n",
      "                                                                 \n",
      " batch_normalization_1 (Batc  (None, 100)              400       \n",
      " hNormalization)                                                 \n",
      "                                                                 \n",
      " dense_7 (Dense)             (None, 300)               30300     \n",
      "                                                                 \n",
      " batch_normalization_2 (Batc  (None, 300)              1200      \n",
      " hNormalization)                                                 \n",
      "                                                                 \n",
      " dense_8 (Dense)             (None, 10)                3010      \n",
      "                                                                 \n",
      "=================================================================\n",
      "Total params: 116,546\n",
      "Trainable params: 114,178\n",
      "Non-trainable params: 2,368\n",
      "_________________________________________________________________\n"
     ]
    }
   ],
   "source": [
    "model.summary()\n"
   ]
  },
  {
   "cell_type": "code",
   "execution_count": 10,
   "id": "46301b9f-e163-4a2e-998c-c7b22d90acaf",
   "metadata": {},
   "outputs": [],
   "source": [
    "model = keras.models.Sequential([\n",
    "    keras.layers.Flatten(input_shape=[28,28]),\n",
    "    keras.layers.BatchNormalization(),\n",
    "    \n",
    "    keras.layers.Dense(300, use_bias=False),\n",
    "    keras.layers.BatchNormalization(),\n",
    "    keras.layers.Activation(\"relu\"),\n",
    "    \n",
    "    keras.layers.Dense(100, use_bias=False),\n",
    "    keras.layers.BatchNormalization(),\n",
    "    keras.layers.Activation(\"relu\"),\n",
    "    \n",
    "    keras.layers.Dense(10, activation = \"softmax\")])\n"
   ]
  },
  {
   "cell_type": "code",
   "execution_count": null,
   "id": "819931dc-8a94-488d-965a-baab80c8ccf1",
   "metadata": {},
   "outputs": [],
   "source": [
    "\n",
    "activation(w*x+b)\n"
   ]
  },
  {
   "cell_type": "markdown",
   "id": "50bfe9c9-b55b-4cfa-88c5-797c71c4d0be",
   "metadata": {},
   "source": [
    "# 3) Gradient clipping"
   ]
  },
  {
   "cell_type": "code",
   "execution_count": 14,
   "id": "c41a10af-fe64-4b86-876b-7df32877e052",
   "metadata": {},
   "outputs": [],
   "source": [
    "opt = keras.optimizers.Adam(learning_rate=0.01, clipnorm=1.0)\n",
    "model.compile(loss='categorical_crossentropy', optimizer=opt)\n",
    "\n",
    "model.compile(loss=\"sparse_categorical_crossentropy\", optimizer=tf.keras.optimizers.Adam(clipvalue=0.5))"
   ]
  },
  {
   "cell_type": "code",
   "execution_count": null,
   "id": "2a8f627e-2093-4118-a38b-39b7549319c2",
   "metadata": {},
   "outputs": [],
   "source": []
  }
 ],
 "metadata": {
  "kernelspec": {
   "display_name": "tfenv",
   "language": "python",
   "name": "myenv"
  },
  "language_info": {
   "codemirror_mode": {
    "name": "ipython",
    "version": 3
   },
   "file_extension": ".py",
   "mimetype": "text/x-python",
   "name": "python",
   "nbconvert_exporter": "python",
   "pygments_lexer": "ipython3",
   "version": "3.7.16"
  }
 },
 "nbformat": 4,
 "nbformat_minor": 5
}
