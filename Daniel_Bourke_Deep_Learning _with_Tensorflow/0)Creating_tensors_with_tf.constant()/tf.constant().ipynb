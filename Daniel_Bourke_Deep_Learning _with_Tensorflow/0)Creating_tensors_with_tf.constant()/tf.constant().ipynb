{
 "cells": [
  {
   "cell_type": "code",
   "execution_count": 2,
   "id": "8f2bac14-967d-4a9e-b97b-38eb24f173c1",
   "metadata": {},
   "outputs": [
    {
     "name": "stdout",
     "output_type": "stream",
     "text": [
      "2.0.0\n"
     ]
    }
   ],
   "source": [
    "#Importing Tensorflow\n",
    "import tensorflow as tf\n",
    "print(tf.__version__)"
   ]
  },
  {
   "cell_type": "code",
   "execution_count": 5,
   "id": "0e3dec88-07a4-44a0-a0f4-2a39fe024db0",
   "metadata": {},
   "outputs": [
    {
     "data": {
      "text/plain": [
       "tf.int32"
      ]
     },
     "execution_count": 5,
     "metadata": {},
     "output_type": "execute_result"
    }
   ],
   "source": [
    "# Creating tensors with tf.constant()\n",
    "\n",
    "scalar = tf.constant(7)\n",
    "scalar.dtype"
   ]
  },
  {
   "cell_type": "markdown",
   "id": "5cff7d1f-5575-44d6-9725-82b258fc5fd4",
   "metadata": {},
   "source": [
    "\n",
    "\n",
    "A scalar is known as a rank 0 tensor. Because it has no dimensions (it's just a number).\n",
    "\n",
    "Scalar : a single number \n",
    "\n",
    "\n",
    "\n",
    "    🔑 Note:  The important point is that tensors can have an unlimited range of dimensions (the exact amount will depend on what data you're representing).\n",
    "\n"
   ]
  },
  {
   "cell_type": "code",
   "execution_count": 5,
   "id": "5dcd19dd-a498-4cf8-a176-28c30bcd1020",
   "metadata": {},
   "outputs": [
    {
     "data": {
      "text/plain": [
       "0"
      ]
     },
     "execution_count": 5,
     "metadata": {},
     "output_type": "execute_result"
    }
   ],
   "source": [
    "# Check the number of dimensions (ndim) of a tensor \n",
    "\n",
    "scalar.ndim"
   ]
  },
  {
   "cell_type": "code",
   "execution_count": 6,
   "id": "389b9eb8-98f4-4512-b0ab-89dd42dba15e",
   "metadata": {},
   "outputs": [
    {
     "data": {
      "text/plain": [
       "<tf.Tensor: id=2, shape=(2,), dtype=int32, numpy=array([10, 10], dtype=int32)>"
      ]
     },
     "execution_count": 6,
     "metadata": {},
     "output_type": "execute_result"
    }
   ],
   "source": [
    "# Create a vector\n",
    "\n",
    "vector = tf.constant([10,10])\n",
    "vector"
   ]
  },
  {
   "cell_type": "code",
   "execution_count": null,
   "id": "97458383-3842-41ca-a4d1-fa90c1f28280",
   "metadata": {},
   "outputs": [
    {
     "data": {
      "text/plain": [
       "1"
      ]
     },
     "execution_count": 7,
     "metadata": {},
     "output_type": "execute_result"
    }
   ],
   "source": [
    "# Check the dimension of the vector\n",
    "vector.ndim"
   ]
  },
  {
   "cell_type": "code",
   "execution_count": 9,
   "id": "87eb9664-05e6-4353-a97d-66f7bc2dc5c7",
   "metadata": {},
   "outputs": [
    {
     "data": {
      "text/plain": [
       "<tf.Tensor: id=4, shape=(2, 2), dtype=int32, numpy=\n",
       "array([[10,  7],\n",
       "       [12,  7]], dtype=int32)>"
      ]
     },
     "execution_count": 9,
     "metadata": {},
     "output_type": "execute_result"
    }
   ],
   "source": [
    "# Create a matrix\n",
    "\n",
    "matrix = tf.constant([[10,7],[12,7]])\n",
    "matrix"
   ]
  },
  {
   "cell_type": "code",
   "execution_count": 10,
   "id": "b0b76906-f439-49db-98ce-c5deed7c2fb9",
   "metadata": {},
   "outputs": [
    {
     "data": {
      "text/plain": [
       "2"
      ]
     },
     "execution_count": 10,
     "metadata": {},
     "output_type": "execute_result"
    }
   ],
   "source": [
    "matrix.ndim"
   ]
  },
  {
   "cell_type": "code",
   "execution_count": 11,
   "id": "83e1a58c-fd4b-4cfe-b10a-af7a8d47672c",
   "metadata": {},
   "outputs": [
    {
     "data": {
      "text/plain": [
       "tf.float64"
      ]
     },
     "execution_count": 11,
     "metadata": {},
     "output_type": "execute_result"
    }
   ],
   "source": [
    "# Create another matrix\n",
    "\n",
    "another_matrix = tf.constant([[10.12, 9.45],\n",
    "                             [12, 22,],\n",
    "                             [23, 0.56]], dtype=tf.float64)\n",
    "\n",
    "another_matrix.dtype"
   ]
  },
  {
   "cell_type": "code",
   "execution_count": 14,
   "id": "b1335151-cdf3-4658-aa77-d767e5b9e9f7",
   "metadata": {},
   "outputs": [
    {
     "data": {
      "text/plain": [
       "2"
      ]
     },
     "execution_count": 14,
     "metadata": {},
     "output_type": "execute_result"
    }
   ],
   "source": [
    "another_matrix.ndim"
   ]
  },
  {
   "cell_type": "code",
   "execution_count": 20,
   "id": "d822df4a-658f-4f4c-8292-01fc216c7396",
   "metadata": {},
   "outputs": [
    {
     "data": {
      "text/plain": [
       "18"
      ]
     },
     "execution_count": 20,
     "metadata": {},
     "output_type": "execute_result"
    },
    {
     "name": "stdout",
     "output_type": "stream",
     "text": [
      "ERROR! Session/line number was not unique in database. History logging moved to new session 157\n"
     ]
    }
   ],
   "source": [
    "tensor_char = tf.constant([[['z', 'dd', 'cc'], ['a', 'aa', 'dd'], ['a', 'aa', 'dd']],\n",
    "                          [['z', 'dd', 'cc'], ['a', 'aa', 'dd'], ['a', 'aa', 'dd']]])\n",
    "\n",
    "# tensor_char.dtype\n",
    "\n",
    "tensor_char.shape\n",
    "\n",
    "tensor_char.numpy().size"
   ]
  },
  {
   "cell_type": "code",
   "execution_count": 15,
   "id": "a4eee17f-b013-4f13-b7f2-127dd5dda586",
   "metadata": {},
   "outputs": [
    {
     "data": {
      "text/plain": [
       "<tf.Tensor: id=14, shape=(2, 2), dtype=string, numpy=\n",
       "array([[b'47', b'36'],\n",
       "       [b'7', b'69']], dtype=object)>"
      ]
     },
     "execution_count": 15,
     "metadata": {},
     "output_type": "execute_result"
    }
   ],
   "source": [
    "tensor_trick = tf.constant([\n",
    "                            ['47', '36'], ['7', '69']\n",
    "                        ])\n",
    "\n",
    "tensor_trick.dtype\n",
    "\n",
    "tensor_trick"
   ]
  },
  {
   "cell_type": "code",
   "execution_count": 19,
   "id": "305327b2-62f7-4699-bc78-798d6f831b84",
   "metadata": {},
   "outputs": [
    {
     "data": {
      "text/plain": [
       "3"
      ]
     },
     "execution_count": 19,
     "metadata": {},
     "output_type": "execute_result"
    }
   ],
   "source": [
    "tensor.ndim"
   ]
  },
  {
   "cell_type": "markdown",
   "id": "883f6f6b-c08b-487d-926d-df5ac8023158",
   "metadata": {},
   "source": [
    "This is known as a rank 3 tensor (3-dimensions), however a tensor can have an arbitrary (unlimited) amount of dimensions.\n",
    "\n",
    "\n",
    "\n",
    "    Scalar: a single number.\n",
    "    \n",
    "    Vector: a number with direction (e.g. wind speed with direction).\n",
    "    \n",
    "    Matrix: a 2-dimensional array of numbers.\n",
    "    \n",
    "    Tensor: an n-dimensional arrary of numbers (where n can be any number, a 0-dimension tensor is a scalar, a 1-dimension tensor is a vector).\n",
    "\n"
   ]
  },
  {
   "cell_type": "markdown",
   "id": "5e1fef2a-a7e1-42d2-ac1b-3c8c05c2cf97",
   "metadata": {},
   "source": [
    "![Alt Text](https://camo.githubusercontent.com/c389e3b3abc7e30e0e49b22a3899b349d8332d30e4d87c533f9ef71ee15c3da3/68747470733a2f2f7261772e67697468756275736572636f6e74656e742e636f6d2f6d7264626f75726b652f74656e736f72666c6f772d646565702d6c6561726e696e672f6d61696e2f696d616765732f30302d7363616c61722d766563746f722d6d61747269782d74656e736f722e706e67)\n"
   ]
  },
  {
   "cell_type": "code",
   "execution_count": 30,
   "id": "e7cd8f3c-70d4-4cb1-94b1-1f713cc9365f",
   "metadata": {},
   "outputs": [
    {
     "data": {
      "text/plain": [
       "2"
      ]
     },
     "execution_count": 38,
     "metadata": {},
     "output_type": "execute_result"
    }
   ],
   "source": [
    "my_tensor = tf.constant([\n",
    "                             [1, 2, 3], \n",
    "                             [4, 5, 6],\n",
    "                             [7, 8, 9], \n",
    "                             [0, 1, 2]\n",
    "                        ])\n",
    "\n",
    "\n",
    "my_tensor.ndim"
   ]
  },
  {
   "cell_type": "code",
   "execution_count": 35,
   "id": "7aaa592a-8776-43d9-87ae-f431e8fdc607",
   "metadata": {},
   "outputs": [
    {
     "data": {
      "text/plain": [
       "3"
      ]
     },
     "execution_count": 39,
     "metadata": {},
     "output_type": "execute_result"
    }
   ],
   "source": [
    "tensor = tf.constant([\n",
    "                        [[1, 2], [4, 6]],\n",
    "    \n",
    "                        [[7, 9], [10, 12]],\n",
    "    \n",
    "                        [[13, 15], [16, 18]]\n",
    "    \n",
    "                    ])\n",
    "\n",
    "tensor.ndim"
   ]
  },
  {
   "cell_type": "code",
   "execution_count": null,
   "id": "98aeb7fd-db74-4d3a-ba6e-f3272e96706e",
   "metadata": {},
   "outputs": [],
   "source": []
  },
  {
   "cell_type": "code",
   "execution_count": 34,
   "id": "c880d20b-27fb-4d93-8dad-ca0aabd99372",
   "metadata": {},
   "outputs": [
    {
     "data": {
      "text/plain": [
       "4"
      ]
     },
     "execution_count": 40,
     "metadata": {},
     "output_type": "execute_result"
    }
   ],
   "source": [
    "my_tensor = tf.constant([\n",
    "                            [[[1, 2], [3, 4]], [[5, 6], [7, 8]]],\n",
    "    \n",
    "                            [[[9, 10], [11, 12]], [[13, 14], [15, 16]]]\n",
    "])\n",
    "\n",
    "\n",
    "my_tensor.ndim"
   ]
  },
  {
   "cell_type": "code",
   "execution_count": null,
   "id": "c36d2032-1593-4cdf-b790-0db4adb4d9f0",
   "metadata": {},
   "outputs": [],
   "source": []
  }
 ],
 "metadata": {
  "kernelspec": {
   "display_name": "tfenv",
   "language": "python",
   "name": "myenv"
  },
  "language_info": {
   "codemirror_mode": {
    "name": "ipython",
    "version": 3
   },
   "file_extension": ".py",
   "mimetype": "text/x-python",
   "name": "python",
   "nbconvert_exporter": "python",
   "pygments_lexer": "ipython3",
   "version": "3.7.16"
  }
 },
 "nbformat": 4,
 "nbformat_minor": 5
}
