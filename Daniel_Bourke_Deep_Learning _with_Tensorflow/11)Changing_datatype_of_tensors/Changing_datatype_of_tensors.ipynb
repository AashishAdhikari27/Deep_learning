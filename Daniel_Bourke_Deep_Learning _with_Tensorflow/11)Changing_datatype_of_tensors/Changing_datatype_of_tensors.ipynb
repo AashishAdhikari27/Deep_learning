{
 "cells": [
  {
   "cell_type": "markdown",
   "id": "ce1f7341-e3b0-464d-b5e2-d877ac8d3943",
   "metadata": {},
   "source": [
    "# Changing datatype of a tensor"
   ]
  },
  {
   "cell_type": "code",
   "execution_count": 3,
   "id": "2b9e54f1-0fd0-4bbe-a28f-78bbbcdaacbf",
   "metadata": {},
   "outputs": [
    {
     "data": {
      "text/plain": [
       "'2.10.0'"
      ]
     },
     "execution_count": 3,
     "metadata": {},
     "output_type": "execute_result"
    }
   ],
   "source": [
    "\n",
    "import tensorflow as tf\n",
    "\n",
    "tf.__version__\n"
   ]
  },
  {
   "cell_type": "code",
   "execution_count": 9,
   "id": "8bfd0317-6d24-4798-aa83-bd03ce8988cd",
   "metadata": {},
   "outputs": [
    {
     "data": {
      "text/plain": [
       "(<tf.Tensor: shape=(2,), dtype=float32, numpy=array([1.7, 7.4], dtype=float32)>,\n",
       " <tf.Tensor: shape=(2,), dtype=int32, numpy=array([1, 7], dtype=int32)>)"
      ]
     },
     "execution_count": 9,
     "metadata": {},
     "output_type": "execute_result"
    }
   ],
   "source": [
    "\n",
    "# Create a new tensor with default datatype (float32)\n",
    "B = tf.constant([1.7, 7.4])\n",
    "\n",
    "# Create a new tensor with default datatype (int32)\n",
    "C = tf.constant([1, 7])\n",
    "\n",
    "B, C\n"
   ]
  },
  {
   "cell_type": "code",
   "execution_count": 11,
   "id": "ab361892-5522-42eb-8adb-f977775040eb",
   "metadata": {},
   "outputs": [
    {
     "data": {
      "text/plain": [
       "(<tf.Tensor: shape=(2,), dtype=float16, numpy=array([1.7, 7.4], dtype=float16)>,\n",
       " tf.float16)"
      ]
     },
     "execution_count": 11,
     "metadata": {},
     "output_type": "execute_result"
    }
   ],
   "source": [
    "\n",
    "# Changing from float32 to float16 (reduced precision vaninxa)\n",
    "\n",
    "D = tf.cast(B , dtype= tf.float16)\n",
    "\n",
    "D,D.dtype\n"
   ]
  },
  {
   "cell_type": "code",
   "execution_count": 15,
   "id": "fcae2ef2-43a5-4c68-bd63-ed08b3687bfe",
   "metadata": {},
   "outputs": [
    {
     "data": {
      "text/plain": [
       "(<tf.Tensor: shape=(2,), dtype=float32, numpy=array([1., 7.], dtype=float32)>,\n",
       " tf.float32)"
      ]
     },
     "execution_count": 15,
     "metadata": {},
     "output_type": "execute_result"
    }
   ],
   "source": [
    "\n",
    "E = tf.cast(C , dtype= tf.float32)\n",
    "\n",
    "E,E.dtype\n"
   ]
  },
  {
   "cell_type": "code",
   "execution_count": 16,
   "id": "030faa3a-ef23-4fc8-9f40-0cff7a67f98c",
   "metadata": {},
   "outputs": [
    {
     "data": {
      "text/plain": [
       "(<tf.Tensor: shape=(2,), dtype=float16, numpy=array([1., 7.], dtype=float16)>,\n",
       " tf.float16)"
      ]
     },
     "execution_count": 16,
     "metadata": {},
     "output_type": "execute_result"
    }
   ],
   "source": [
    "\n",
    "\n",
    "E = tf.cast(C , dtype= tf.float16)\n",
    "\n",
    "E,E.dtype\n"
   ]
  },
  {
   "cell_type": "code",
   "execution_count": null,
   "id": "81ee6916-62ce-462c-8122-c2cffecde018",
   "metadata": {},
   "outputs": [],
   "source": []
  }
 ],
 "metadata": {
  "kernelspec": {
   "display_name": "tfenv",
   "language": "python",
   "name": "myenv"
  },
  "language_info": {
   "codemirror_mode": {
    "name": "ipython",
    "version": 3
   },
   "file_extension": ".py",
   "mimetype": "text/x-python",
   "name": "python",
   "nbconvert_exporter": "python",
   "pygments_lexer": "ipython3",
   "version": "3.7.16"
  }
 },
 "nbformat": 4,
 "nbformat_minor": 5
}
