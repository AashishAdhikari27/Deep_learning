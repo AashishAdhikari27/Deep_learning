{
 "cells": [
  {
   "cell_type": "markdown",
   "id": "f19d0cfb-740e-4de7-abd4-31f25dc61f58",
   "metadata": {
    "tags": []
   },
   "source": [
    "# Creating random tensors\n",
    "\n",
    "## --> Random tensors are of arbitary size ,which contain random numbers\n"
   ]
  },
  {
   "cell_type": "code",
   "execution_count": 1,
   "id": "a69967aa-add9-4d30-8bfd-9e5506178f50",
   "metadata": {},
   "outputs": [
    {
     "name": "stderr",
     "output_type": "stream",
     "text": [
      "2023-08-04 11:56:40.376131: I tensorflow/core/platform/cpu_feature_guard.cc:193] This TensorFlow binary is optimized with oneAPI Deep Neural Network Library (oneDNN) to use the following CPU instructions in performance-critical operations:  SSE4.1 SSE4.2\n",
      "To enable them in other operations, rebuild TensorFlow with the appropriate compiler flags.\n"
     ]
    },
    {
     "name": "stdout",
     "output_type": "stream",
     "text": [
      "2.10.0\n"
     ]
    }
   ],
   "source": [
    "\n",
    "# Importing TensorFlow\n",
    "\n",
    "import tensorflow as tf\n",
    "\n",
    "print(tf.__version__) "
   ]
  },
  {
   "cell_type": "code",
   "execution_count": 6,
   "id": "527ab53b-cf0e-48f2-87c1-f91debb4bd51",
   "metadata": {},
   "outputs": [
    {
     "data": {
      "text/plain": [
       "(<tf.Tensor: shape=(3, 2), dtype=float32, numpy=\n",
       " array([[-0.7565803 , -0.06854702],\n",
       "        [ 0.07595026, -1.2573844 ],\n",
       "        [-0.23193763, -1.8107855 ]], dtype=float32)>,\n",
       " <tf.Tensor: shape=(3, 2), dtype=float32, numpy=\n",
       " array([[ 0.17522676,  0.71105534],\n",
       "        [ 0.54882437,  0.14896014],\n",
       "        [-0.54757965,  0.61634356]], dtype=float32)>,\n",
       " <tf.Tensor: shape=(3, 2), dtype=bool, numpy=\n",
       " array([[False, False],\n",
       "        [False, False],\n",
       "        [False, False]])>)"
      ]
     },
     "execution_count": 6,
     "metadata": {},
     "output_type": "execute_result"
    }
   ],
   "source": [
    "\n",
    "# Creating two random (but the same ) tensors \n",
    "\n",
    "# Creating two random (but the same) tensors\n",
    "random_gen = tf.random.Generator.from_seed(42)\n",
    "\n",
    "random_1 = random_gen.normal(shape=(3, 2))  # Generate tensor from a normal distribution\n",
    "\n",
    "# random_gen = tf.random.Generator.from_seed(42)\n",
    "\n",
    "random_2 = random_gen.normal(shape=(3, 2))\n",
    "\n",
    "random_1,random_2,random_1==random_2"
   ]
  },
  {
   "cell_type": "markdown",
   "id": "fc540f8f-0940-4fc0-9173-248fc893cf15",
   "metadata": {},
   "source": [
    "# tf.random.Generator.from_seed(42)\n",
    "## -->  tf.random.Generator.from_seed(42) creates a random tensor is one way to ensure that you get the same sequence of random numbers each time you run your code.\n",
    "\n",
    "# -->yesle random number generator instance create garxa,jasle kunai specific sequence (determined by seed value) follow garera numbers generate garxa\n",
    "\n"
   ]
  },
  {
   "cell_type": "code",
   "execution_count": null,
   "id": "aa78772e-5ad5-4d12-8215-551ace1ead33",
   "metadata": {},
   "outputs": [],
   "source": []
  }
 ],
 "metadata": {
  "kernelspec": {
   "display_name": "tfenv",
   "language": "python",
   "name": "myenv"
  },
  "language_info": {
   "codemirror_mode": {
    "name": "ipython",
    "version": 3
   },
   "file_extension": ".py",
   "mimetype": "text/x-python",
   "name": "python",
   "nbconvert_exporter": "python",
   "pygments_lexer": "ipython3",
   "version": "3.7.16"
  }
 },
 "nbformat": 4,
 "nbformat_minor": 5
}
