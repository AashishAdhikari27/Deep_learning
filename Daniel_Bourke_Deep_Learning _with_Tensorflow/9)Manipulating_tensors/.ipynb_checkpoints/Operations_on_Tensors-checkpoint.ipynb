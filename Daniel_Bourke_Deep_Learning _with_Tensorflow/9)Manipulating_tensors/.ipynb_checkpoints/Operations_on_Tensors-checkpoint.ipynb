{
 "cells": [
  {
   "cell_type": "markdown",
   "id": "83f2b063-70d6-4d3a-9815-d4178818f37f",
   "metadata": {},
   "source": [
    "# Manipulating Tensors :-\n",
    "\n",
    "## Basic Operations :-\n",
    "### ---> \" + \" , \" - \" , \" * \" ,\" / \""
   ]
  },
  {
   "cell_type": "code",
   "execution_count": 3,
   "id": "1ffa7707-dc6a-4690-b952-d435f9a978f8",
   "metadata": {},
   "outputs": [
    {
     "name": "stdout",
     "output_type": "stream",
     "text": [
      "2.10.0\n"
     ]
    }
   ],
   "source": [
    "\n",
    "import tensorflow as tf\n",
    "\n",
    "print(tf.__version__)"
   ]
  },
  {
   "cell_type": "code",
   "execution_count": 4,
   "id": "acd1d084-c903-4495-af1b-d843a2d44997",
   "metadata": {},
   "outputs": [
    {
     "data": {
      "text/plain": [
       "<tf.Tensor: shape=(2, 2), dtype=int32, numpy=\n",
       "array([[10,  7],\n",
       "       [12, 15]], dtype=int32)>"
      ]
     },
     "execution_count": 4,
     "metadata": {},
     "output_type": "execute_result"
    }
   ],
   "source": [
    "\n",
    "\n",
    "tensor = tf.constant([ \n",
    "                        [10 , 7],\n",
    "                        [ 12, 15]\n",
    "                    ])\n",
    "tensor"
   ]
  },
  {
   "cell_type": "code",
   "execution_count": 9,
   "id": "f63e0b21-450c-4ed8-8c9f-167a9569ac28",
   "metadata": {},
   "outputs": [
    {
     "data": {
      "text/plain": [
       "(<tf.Tensor: shape=(2, 2), dtype=int32, numpy=\n",
       " array([[20, 17],\n",
       "        [22, 25]], dtype=int32)>,)"
      ]
     },
     "execution_count": 9,
     "metadata": {},
     "output_type": "execute_result"
    }
   ],
   "source": [
    "\n",
    "# addition operator use garera ,tensor maa value add garna milxa\n",
    "\n",
    "tensor + 10,\n",
    "\n",
    "# yesle origional tensor maa kunai changes gardina\n",
    "\n"
   ]
  },
  {
   "cell_type": "code",
   "execution_count": 8,
   "id": "6f8f1d02-2ac7-4c5e-a8b5-56f9f25eae03",
   "metadata": {},
   "outputs": [
    {
     "data": {
      "text/plain": [
       "<tf.Tensor: shape=(2, 2), dtype=int32, numpy=\n",
       "array([[10,  7],\n",
       "       [12, 15]], dtype=int32)>"
      ]
     },
     "execution_count": 8,
     "metadata": {},
     "output_type": "execute_result"
    }
   ],
   "source": [
    "\n",
    "tensor\n"
   ]
  },
  {
   "cell_type": "code",
   "execution_count": 11,
   "id": "6997b64c-aa35-4619-8a51-dc88bc0dd89e",
   "metadata": {},
   "outputs": [
    {
     "data": {
      "text/plain": [
       "(<tf.Tensor: shape=(2, 2), dtype=int32, numpy=\n",
       " array([[ 0, -3],\n",
       "        [ 2,  5]], dtype=int32)>,\n",
       " <tf.Tensor: shape=(2, 2), dtype=int32, numpy=\n",
       " array([[100,  70],\n",
       "        [120, 150]], dtype=int32)>,\n",
       " <tf.Tensor: shape=(2, 2), dtype=float64, numpy=\n",
       " array([[3.33333333, 2.33333333],\n",
       "        [4.        , 5.        ]])>)"
      ]
     },
     "execution_count": 11,
     "metadata": {},
     "output_type": "execute_result"
    }
   ],
   "source": [
    "\n",
    "# other minus ,multiplication and division operators can also be used as :-\n",
    "\n",
    "tensor - 10 , tensor * 10 ,tensor / 3\n"
   ]
  },
  {
   "cell_type": "markdown",
   "id": "c698c342-198c-4b7c-a359-b8e8e9575af1",
   "metadata": {},
   "source": [
    "\n",
    "### tensorflow maa kehi builtin function functons haru hunxan jasle basic operatons haru garxa \n"
   ]
  },
  {
   "cell_type": "code",
   "execution_count": 12,
   "id": "837e1c80-8b44-4722-ad22-3232d5104b70",
   "metadata": {},
   "outputs": [
    {
     "data": {
      "text/plain": [
       "(<tf.Tensor: shape=(2, 2), dtype=int32, numpy=\n",
       " array([[20, 17],\n",
       "        [22, 25]], dtype=int32)>,\n",
       " <tf.Tensor: shape=(2, 2), dtype=int32, numpy=\n",
       " array([[ 0, -3],\n",
       "        [ 2,  5]], dtype=int32)>,\n",
       " <tf.Tensor: shape=(2, 2), dtype=int32, numpy=\n",
       " array([[100,  70],\n",
       "        [120, 150]], dtype=int32)>,\n",
       " <tf.Tensor: shape=(2, 2), dtype=float64, numpy=\n",
       " array([[1. , 0.7],\n",
       "        [1.2, 1.5]])>)"
      ]
     },
     "execution_count": 12,
     "metadata": {},
     "output_type": "execute_result"
    }
   ],
   "source": [
    "\n",
    "# Add 10\n",
    "add_result = tf.add(tensor, 10)\n",
    "\n",
    "# Subtract 10\n",
    "sub_result = tf.subtract(tensor, 10)\n",
    "\n",
    "# Multiply by 10\n",
    "mul_result = tf.multiply(tensor, 10)\n",
    "\n",
    "# Divide by 10\n",
    "div_result = tf.divide(tensor, 10)\n",
    "\n",
    "\n",
    "add_result , sub_result , mul_result , div_result "
   ]
  },
  {
   "cell_type": "code",
   "execution_count": 13,
   "id": "ce637526-5d58-43c7-b3c8-b1868b6c2847",
   "metadata": {},
   "outputs": [
    {
     "data": {
      "text/plain": [
       "(<tf.Tensor: shape=(3,), dtype=int32, numpy=array([5, 7, 9], dtype=int32)>,\n",
       " <tf.Tensor: shape=(3,), dtype=int32, numpy=array([-3, -3, -3], dtype=int32)>,\n",
       " <tf.Tensor: shape=(3,), dtype=int32, numpy=array([ 4, 10, 18], dtype=int32)>,\n",
       " <tf.Tensor: shape=(3,), dtype=float64, numpy=array([0.25, 0.4 , 0.5 ])>)"
      ]
     },
     "execution_count": 13,
     "metadata": {},
     "output_type": "execute_result"
    }
   ],
   "source": [
    "\n",
    "# Create tensors\n",
    "tensor_a = tf.constant([1, 2, 3])\n",
    "tensor_b = tf.constant([4, 5, 6])\n",
    "\n",
    "# Addition\n",
    "add = tf.add(tensor_a, tensor_b)\n",
    "\n",
    "# Subtraction\n",
    "sub = tf.subtract(tensor_a, tensor_b)\n",
    "\n",
    "# Multiplication\n",
    "mul = tf.multiply(tensor_a, tensor_b)\n",
    "\n",
    "# Division\n",
    "div= tf.divide(tensor_a, tensor_b)\n",
    "\n",
    "add , sub , mul ,div \n",
    "\n"
   ]
  },
  {
   "cell_type": "code",
   "execution_count": null,
   "id": "448cb78e-873b-454f-a3a5-ff131e073c2a",
   "metadata": {},
   "outputs": [],
   "source": []
  }
 ],
 "metadata": {
  "kernelspec": {
   "display_name": "tfenv",
   "language": "python",
   "name": "myenv"
  },
  "language_info": {
   "codemirror_mode": {
    "name": "ipython",
    "version": 3
   },
   "file_extension": ".py",
   "mimetype": "text/x-python",
   "name": "python",
   "nbconvert_exporter": "python",
   "pygments_lexer": "ipython3",
   "version": "3.7.16"
  }
 },
 "nbformat": 4,
 "nbformat_minor": 5
}
