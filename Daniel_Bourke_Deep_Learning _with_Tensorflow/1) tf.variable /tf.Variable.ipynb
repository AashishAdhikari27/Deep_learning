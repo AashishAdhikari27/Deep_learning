{
 "cells": [
  {
   "cell_type": "markdown",
   "id": "041488c3-5a23-49ba-8ed3-16206bbcc2fd",
   "metadata": {},
   "source": [
    "## Creating tensors with tf.Variable"
   ]
  },
  {
   "cell_type": "code",
   "execution_count": 1,
   "id": "df3efe7a-b4bb-42ea-8e8d-8427c48f6e4a",
   "metadata": {},
   "outputs": [
    {
     "name": "stdout",
     "output_type": "stream",
     "text": [
      "2.0.0\n"
     ]
    }
   ],
   "source": [
    "# Importing TensorFlow\n",
    "\n",
    "import tensorflow as tf\n",
    "\n",
    "print(tf.__version__)     \n"
   ]
  },
  {
   "cell_type": "code",
   "execution_count": 2,
   "id": "04314941-1264-434c-8eb9-fdf956428fc6",
   "metadata": {},
   "outputs": [
    {
     "name": "stderr",
     "output_type": "stream",
     "text": [
      "2023-08-03 20:11:15.869213: I tensorflow/core/platform/cpu_feature_guard.cc:145] This TensorFlow binary is optimized with Intel(R) MKL-DNN to use the following CPU instructions in performance critical operations:  SSE4.1 SSE4.2\n",
      "To enable them in non-MKL-DNN operations, rebuild TensorFlow with the appropriate compiler flags.\n",
      "2023-08-03 20:11:16.336778: I tensorflow/core/platform/profile_utils/cpu_utils.cc:94] CPU Frequency: 2527145000 Hz\n",
      "2023-08-03 20:11:16.337394: I tensorflow/compiler/xla/service/service.cc:168] XLA service 0x38a2ed0 executing computations on platform Host. Devices:\n",
      "2023-08-03 20:11:16.337426: I tensorflow/compiler/xla/service/service.cc:175]   StreamExecutor device (0): Host, Default Version\n",
      "2023-08-03 20:11:16.375840: I tensorflow/core/common_runtime/process_util.cc:115] Creating new thread pool with default inter op setting: 2. Tune using inter_op_parallelism_threads for best performance.\n"
     ]
    },
    {
     "data": {
      "text/plain": [
       "(<tf.Variable 'Variable:0' shape=(2,) dtype=int32, numpy=array([7, 6], dtype=int32)>,\n",
       " <tf.Tensor: id=8, shape=(2,), dtype=int32, numpy=array([7, 6], dtype=int32)>)"
      ]
     },
     "execution_count": 2,
     "metadata": {},
     "output_type": "execute_result"
    }
   ],
   "source": [
    "\n",
    "# Creating a tensor using tf.Variable\n",
    "\n",
    "changable_tensor = tf.Variable([7,6])\n",
    "\n",
    "unchangable_tensor = tf.constant([7,6])\n",
    "\n",
    "changable_tensor,unchangable_tensor"
   ]
  },
  {
   "cell_type": "code",
   "execution_count": 3,
   "id": "f29f4d38-cf3f-45c1-98c7-4e280a87def6",
   "metadata": {},
   "outputs": [],
   "source": [
    "\n",
    "# changable_tensor ko kunai element change garna lako\n",
    "\n",
    "#changable_tensor[0] =20\n",
    "#changable_tensor\n",
    "\n",
    "\n",
    "# yesle error dinxa "
   ]
  },
  {
   "cell_type": "markdown",
   "id": "34f1b178-baa1-46b3-856c-7ed47a7e6bea",
   "metadata": {},
   "source": [
    "# Lets try .assign() method to update the value of tensor created using tf.Variable()\n",
    "\n",
    "## .assign method le chai tf.Variable use garera create garera /rakhera  banako value lai update /change garxa "
   ]
  },
  {
   "cell_type": "code",
   "execution_count": 4,
   "id": "f3f5615a-8028-4a71-aa9f-e96cf6a0445f",
   "metadata": {},
   "outputs": [
    {
     "data": {
      "text/plain": [
       "<tf.Variable 'Variable:0' shape=(2,) dtype=int32, numpy=array([20,  6], dtype=int32)>"
      ]
     },
     "execution_count": 4,
     "metadata": {},
     "output_type": "execute_result"
    }
   ],
   "source": [
    "\n",
    "changable_tensor[0].assign(20)\n",
    "changable_tensor"
   ]
  },
  {
   "cell_type": "code",
   "execution_count": 5,
   "id": "c3f441b0-d6b9-4d6d-9cd3-8c228b986fa4",
   "metadata": {},
   "outputs": [],
   "source": [
    "\n",
    "# aba tf.constant() method use garera banako tensor ko value change gardai\n",
    "\n",
    "# unchangable_tensor[0].assign(20)\n",
    "\n",
    "# unchangable_tensor\n",
    "\n"
   ]
  },
  {
   "cell_type": "code",
   "execution_count": 6,
   "id": "9fcecc66-1193-4bc0-ab28-06a4b60d60ce",
   "metadata": {},
   "outputs": [
    {
     "data": {
      "text/plain": [
       "tf.int32"
      ]
     },
     "execution_count": 6,
     "metadata": {},
     "output_type": "execute_result"
    }
   ],
   "source": [
    "tensor= tf.constant([[[7,4], [0,1]],\n",
    "                    [[1,9] , [2,3]],\n",
    "                    [[5,6] , [8,8]]\n",
    "                    ])\n",
    "# tensor\n",
    "\n",
    "# print(tensor)\n",
    "\n",
    "tensor.dtype\n",
    "\n"
   ]
  },
  {
   "cell_type": "markdown",
   "id": "60eab490-0f1e-4f5e-ad1b-0b09af69d550",
   "metadata": {},
   "source": [
    "## this gives error,that means tf.constant le banko tensor ko value change garna mildaina ,whereas tf.Variable use garera banako tensor ko value change garna milxxa using .assign() method"
   ]
  }
 ],
 "metadata": {
  "kernelspec": {
   "display_name": "tfenv",
   "language": "python",
   "name": "myenv"
  },
  "language_info": {
   "codemirror_mode": {
    "name": "ipython",
    "version": 3
   },
   "file_extension": ".py",
   "mimetype": "text/x-python",
   "name": "python",
   "nbconvert_exporter": "python",
   "pygments_lexer": "ipython3",
   "version": "3.7.16"
  }
 },
 "nbformat": 4,
 "nbformat_minor": 5
}
