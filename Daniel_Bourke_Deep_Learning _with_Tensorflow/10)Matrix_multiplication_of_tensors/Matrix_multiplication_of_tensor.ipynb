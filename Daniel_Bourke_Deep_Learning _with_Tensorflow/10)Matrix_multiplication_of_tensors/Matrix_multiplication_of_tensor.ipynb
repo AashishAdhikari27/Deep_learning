{
 "cells": [
  {
   "cell_type": "markdown",
   "id": "05d71747-b055-4f7a-9036-a31073c07d11",
   "metadata": {},
   "source": [
    "\n",
    "# Matrix mutliplication\n",
    "\n",
    "###  ---> One of the most common operations in machine learning algorithms is matrix multiplication.\n",
    "\n",
    "\n",
    "\n",
    "## TensorFlow implements this matrix multiplication functionality in the tf.matmul() method.\n",
    "\n",
    "\n",
    "\n",
    "## The main two rules for matrix multiplication to remember are:\n",
    "\n",
    "###    The inner dimensions must match:\n",
    "\n",
    "### --->    (3, 5) @ (3, 5) won't work\n",
    "### --->   (5, 3) @ (3, 5) will work\n",
    "### --->    (3, 5) @ (5, 3) will work\n",
    "\n",
    "##     The resulting matrix has the shape of the outer dimensions:\n",
    "\n",
    "### --->    (5, 3) @ (3, 5) -> (5, 5)\n",
    "### --->    (3, 5) @ (5, 3) -> (3, 3)\n",
    "\n",
    "##    🔑 Note: '@' in Python is the symbol for matrix multiplication.\n",
    "\n"
   ]
  },
  {
   "cell_type": "code",
   "execution_count": 3,
   "id": "1f6cd7fd-ad8f-4877-8c44-c013ecd41a1d",
   "metadata": {},
   "outputs": [
    {
     "name": "stdout",
     "output_type": "stream",
     "text": [
      "2.10.0\n"
     ]
    }
   ],
   "source": [
    "\n",
    "import tensorflow as tf \n",
    "\n",
    "print(tf.__version__)"
   ]
  },
  {
   "cell_type": "code",
   "execution_count": 5,
   "id": "f4d3bfa0-0943-40ba-977b-45bf7273a28d",
   "metadata": {},
   "outputs": [
    {
     "data": {
      "text/plain": [
       "<tf.Tensor: shape=(2, 2), dtype=int32, numpy=\n",
       "array([[10,  7],\n",
       "       [ 3,  4]], dtype=int32)>"
      ]
     },
     "execution_count": 5,
     "metadata": {},
     "output_type": "execute_result"
    }
   ],
   "source": [
    "\n",
    "tensor = tf.constant([\n",
    "                      [10, 7],\n",
    "                      [3, 4]\n",
    "                     ])\n",
    "\n",
    "tensor\n"
   ]
  },
  {
   "cell_type": "code",
   "execution_count": 6,
   "id": "7be850f4-3262-4705-8f94-d594bb728ac4",
   "metadata": {},
   "outputs": [
    {
     "data": {
      "text/plain": [
       "<tf.Tensor: shape=(2, 2), dtype=int32, numpy=\n",
       "array([[121,  98],\n",
       "       [ 42,  37]], dtype=int32)>"
      ]
     },
     "execution_count": 6,
     "metadata": {},
     "output_type": "execute_result"
    }
   ],
   "source": [
    "\n",
    "tf.matmul(tensor, tensor)\n"
   ]
  },
  {
   "cell_type": "code",
   "execution_count": 7,
   "id": "0c597cc1-2dab-4a6b-85fd-7a253d4d2897",
   "metadata": {},
   "outputs": [
    {
     "data": {
      "text/plain": [
       "<tf.Tensor: shape=(2, 2), dtype=int32, numpy=\n",
       "array([[121,  98],\n",
       "       [ 42,  37]], dtype=int32)>"
      ]
     },
     "execution_count": 7,
     "metadata": {},
     "output_type": "execute_result"
    }
   ],
   "source": [
    "\n",
    "# matrix multuplication with python operator \" @ \"\n",
    "\n",
    "tensor @ tensor\n"
   ]
  },
  {
   "cell_type": "code",
   "execution_count": 8,
   "id": "18a4b425-dc9f-438f-96aa-8a37b67a8aee",
   "metadata": {},
   "outputs": [
    {
     "data": {
      "text/plain": [
       "(<tf.Tensor: shape=(3, 2), dtype=int32, numpy=\n",
       " array([[1, 2],\n",
       "        [3, 4],\n",
       "        [5, 6]], dtype=int32)>,\n",
       " <tf.Tensor: shape=(3, 2), dtype=int32, numpy=\n",
       " array([[ 7,  8],\n",
       "        [ 9, 10],\n",
       "        [11, 12]], dtype=int32)>)"
      ]
     },
     "execution_count": 8,
     "metadata": {},
     "output_type": "execute_result"
    }
   ],
   "source": [
    "\n",
    "# Creating a  (3, 2) tensor\n",
    "\n",
    "X = tf.constant([[1, 2],\n",
    "                 [3, 4],\n",
    "                 [5, 6]])\n",
    "\n",
    "\n",
    "# Creating another (3, 2) tensor\n",
    "\n",
    "Y = tf.constant([[7, 8],\n",
    "                 [9, 10],\n",
    "                 [11, 12]])\n",
    "\n",
    "X, Y"
   ]
  },
  {
   "cell_type": "code",
   "execution_count": 10,
   "id": "d9f6850e-a488-4500-a03b-6e69f26db180",
   "metadata": {},
   "outputs": [],
   "source": [
    "\n",
    "# Try to matrix multiply them (will error)\n",
    "\n",
    "# X @ Y\n",
    "     "
   ]
  },
  {
   "cell_type": "code",
   "execution_count": 14,
   "id": "74be18bb-3141-4e2c-ba22-bd6814e57be6",
   "metadata": {},
   "outputs": [
    {
     "data": {
      "text/plain": [
       "<tf.Tensor: shape=(2, 3), dtype=int32, numpy=\n",
       "array([[1, 2, 3],\n",
       "       [4, 5, 6]], dtype=int32)>"
      ]
     },
     "execution_count": 14,
     "metadata": {},
     "output_type": "execute_result"
    }
   ],
   "source": [
    "\n",
    "# matrix multiplication garnalai kita  X ko waa ki Y ko shape change garna parxa \n",
    "\n",
    "# duitai tensor ko shape ( 3 * 2 ) ko form maa xa so kunai tensor lai ( 2 * 3 ) ko form maa change gare paxi matrai matrix multiplication possuble xa\n",
    "\n",
    "# so reshaping the tensor X  using tf.reshape function \n",
    "\n",
    "reshaped_X = tf.reshape( X , shape = (2 ,3))\n",
    "\n",
    "reshaped_X "
   ]
  },
  {
   "cell_type": "code",
   "execution_count": 15,
   "id": "2fda60f3-d0fd-41d1-bd75-46f4fcb3b86e",
   "metadata": {},
   "outputs": [
    {
     "data": {
      "text/plain": [
       "<tf.Tensor: shape=(2, 2), dtype=int32, numpy=\n",
       "array([[ 58,  64],\n",
       "       [139, 154]], dtype=int32)>"
      ]
     },
     "execution_count": 15,
     "metadata": {},
     "output_type": "execute_result"
    }
   ],
   "source": [
    "\n",
    "reshaped_X @ Y\n"
   ]
  },
  {
   "cell_type": "code",
   "execution_count": 16,
   "id": "423d0464-ade8-4f42-8dfd-7df523db77ea",
   "metadata": {},
   "outputs": [
    {
     "data": {
      "text/plain": [
       "<tf.Tensor: shape=(2, 2), dtype=int32, numpy=\n",
       "array([[ 58,  64],\n",
       "       [139, 154]], dtype=int32)>"
      ]
     },
     "execution_count": 16,
     "metadata": {},
     "output_type": "execute_result"
    }
   ],
   "source": [
    "\n",
    "tf.matmul(reshaped_X ,Y )"
   ]
  },
  {
   "cell_type": "code",
   "execution_count": 18,
   "id": "53591c0a-ddae-4bb9-9096-4fd0748e53d2",
   "metadata": {},
   "outputs": [
    {
     "data": {
      "text/plain": [
       "(<tf.Tensor: shape=(3, 2), dtype=int32, numpy=\n",
       " array([[1, 2],\n",
       "        [3, 4],\n",
       "        [5, 6]], dtype=int32)>,\n",
       " <tf.Tensor: shape=(2, 3), dtype=int32, numpy=\n",
       " array([[1, 2, 3],\n",
       "        [4, 5, 6]], dtype=int32)>,\n",
       " <tf.Tensor: shape=(2, 3), dtype=int32, numpy=\n",
       " array([[1, 3, 5],\n",
       "        [2, 4, 6]], dtype=int32)>)"
      ]
     },
     "execution_count": 18,
     "metadata": {},
     "output_type": "execute_result"
    }
   ],
   "source": [
    "\n",
    "# reshape ko satta transpose pani garna abs \n",
    "\n",
    "X , reshaped_X ,tf.transpose(X)"
   ]
  },
  {
   "cell_type": "code",
   "execution_count": null,
   "id": "0dbf465c-bd76-4d00-ad1f-2d5c70f69a79",
   "metadata": {},
   "outputs": [],
   "source": []
  }
 ],
 "metadata": {
  "kernelspec": {
   "display_name": "tfenv",
   "language": "python",
   "name": "myenv"
  },
  "language_info": {
   "codemirror_mode": {
    "name": "ipython",
    "version": 3
   },
   "file_extension": ".py",
   "mimetype": "text/x-python",
   "name": "python",
   "nbconvert_exporter": "python",
   "pygments_lexer": "ipython3",
   "version": "3.7.16"
  }
 },
 "nbformat": 4,
 "nbformat_minor": 5
}
