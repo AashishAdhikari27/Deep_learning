{
 "cells": [
  {
   "cell_type": "markdown",
   "id": "05d71747-b055-4f7a-9036-a31073c07d11",
   "metadata": {},
   "source": [
    "\n",
    "# Matrix mutliplication\n",
    "\n",
    "###  ---> One of the most common operations in machine learning algorithms is matrix multiplication.\n",
    "\n",
    "\n",
    "\n",
    "## TensorFlow implements this matrix multiplication functionality in the tf.matmul() method.\n",
    "\n",
    "\n",
    "\n",
    "## The main two rules for matrix multiplication to remember are:\n",
    "\n",
    "###    The inner dimensions must match:\n",
    "\n",
    "### --->    (3, 5) @ (3, 5) won't work\n",
    "### --->   (5, 3) @ (3, 5) will work\n",
    "### --->    (3, 5) @ (5, 3) will work\n",
    "\n",
    "##     The resulting matrix has the shape of the outer dimensions:\n",
    "\n",
    "### --->    (5, 3) @ (3, 5) -> (5, 5)\n",
    "### --->    (3, 5) @ (5, 3) -> (3, 3)\n",
    "\n",
    "##    🔑 Note: '@' in Python is the symbol for matrix multiplication.\n",
    "\n"
   ]
  },
  {
   "cell_type": "code",
   "execution_count": 15,
   "id": "1f6cd7fd-ad8f-4877-8c44-c013ecd41a1d",
   "metadata": {},
   "outputs": [
    {
     "name": "stdout",
     "output_type": "stream",
     "text": [
      "2.10.0\n"
     ]
    }
   ],
   "source": [
    "\n",
    "import tensorflow as tf \n",
    "\n",
    "print(tf.__version__)"
   ]
  },
  {
   "cell_type": "code",
   "execution_count": 16,
   "id": "f4d3bfa0-0943-40ba-977b-45bf7273a28d",
   "metadata": {},
   "outputs": [
    {
     "data": {
      "text/plain": [
       "<tf.Tensor: shape=(2, 2), dtype=int32, numpy=\n",
       "array([[10,  7],\n",
       "       [ 3,  4]], dtype=int32)>"
      ]
     },
     "execution_count": 16,
     "metadata": {},
     "output_type": "execute_result"
    }
   ],
   "source": [
    "\n",
    "tensor = tf.constant([\n",
    "                      [10, 7],\n",
    "                      [3, 4]\n",
    "                     ])\n",
    "\n",
    "tensor\n"
   ]
  },
  {
   "cell_type": "code",
   "execution_count": 3,
   "id": "7be850f4-3262-4705-8f94-d594bb728ac4",
   "metadata": {},
   "outputs": [
    {
     "data": {
      "text/plain": [
       "<tf.Tensor: shape=(2, 2), dtype=int32, numpy=\n",
       "array([[121,  98],\n",
       "       [ 42,  37]], dtype=int32)>"
      ]
     },
     "execution_count": 3,
     "metadata": {},
     "output_type": "execute_result"
    }
   ],
   "source": [
    "\n",
    "tf.matmul(tensor, tensor)\n"
   ]
  },
  {
   "cell_type": "code",
   "execution_count": 4,
   "id": "0c597cc1-2dab-4a6b-85fd-7a253d4d2897",
   "metadata": {},
   "outputs": [
    {
     "data": {
      "text/plain": [
       "<tf.Tensor: shape=(2, 2), dtype=int32, numpy=\n",
       "array([[121,  98],\n",
       "       [ 42,  37]], dtype=int32)>"
      ]
     },
     "execution_count": 4,
     "metadata": {},
     "output_type": "execute_result"
    }
   ],
   "source": [
    "\n",
    "# matrix multuplication with python operator \" @ \"\n",
    "\n",
    "tensor @ tensor\n"
   ]
  },
  {
   "cell_type": "code",
   "execution_count": 5,
   "id": "18a4b425-dc9f-438f-96aa-8a37b67a8aee",
   "metadata": {},
   "outputs": [
    {
     "data": {
      "text/plain": [
       "(<tf.Tensor: shape=(3, 2), dtype=int32, numpy=\n",
       " array([[1, 2],\n",
       "        [3, 4],\n",
       "        [5, 6]], dtype=int32)>,\n",
       " <tf.Tensor: shape=(3, 2), dtype=int32, numpy=\n",
       " array([[ 7,  8],\n",
       "        [ 9, 10],\n",
       "        [11, 12]], dtype=int32)>)"
      ]
     },
     "execution_count": 5,
     "metadata": {},
     "output_type": "execute_result"
    }
   ],
   "source": [
    "\n",
    "# Creating a  (3, 2) tensor\n",
    "\n",
    "X = tf.constant([[1, 2],\n",
    "                 [3, 4],\n",
    "                 [5, 6]])\n",
    "\n",
    "\n",
    "# Creating another (3, 2) tensor\n",
    "\n",
    "Y = tf.constant([[7, 8],\n",
    "                 [9, 10],\n",
    "                 [11, 12]])\n",
    "\n",
    "X, Y"
   ]
  },
  {
   "cell_type": "code",
   "execution_count": 6,
   "id": "d9f6850e-a488-4500-a03b-6e69f26db180",
   "metadata": {},
   "outputs": [],
   "source": [
    "\n",
    "# Try to matrix multiply them (will error)\n",
    "\n",
    "# X @ Y\n",
    "     "
   ]
  },
  {
   "cell_type": "code",
   "execution_count": 7,
   "id": "74be18bb-3141-4e2c-ba22-bd6814e57be6",
   "metadata": {},
   "outputs": [
    {
     "data": {
      "text/plain": [
       "<tf.Tensor: shape=(2, 3), dtype=int32, numpy=\n",
       "array([[1, 2, 3],\n",
       "       [4, 5, 6]], dtype=int32)>"
      ]
     },
     "execution_count": 7,
     "metadata": {},
     "output_type": "execute_result"
    }
   ],
   "source": [
    "\n",
    "# matrix multiplication garnalai kita  X ko waa ki Y ko shape change garna parxa \n",
    "\n",
    "# duitai tensor ko shape ( 3 * 2 ) ko form maa xa so kunai tensor lai ( 2 * 3 ) ko form maa change gare paxi matrai matrix multiplication possuble xa\n",
    "\n",
    "# so reshaping the tensor X  using tf.reshape function \n",
    "\n",
    "reshaped_X = tf.reshape( X , shape = (2 ,3))\n",
    "\n",
    "reshaped_X "
   ]
  },
  {
   "cell_type": "code",
   "execution_count": 8,
   "id": "2fda60f3-d0fd-41d1-bd75-46f4fcb3b86e",
   "metadata": {},
   "outputs": [
    {
     "data": {
      "text/plain": [
       "<tf.Tensor: shape=(2, 2), dtype=int32, numpy=\n",
       "array([[ 58,  64],\n",
       "       [139, 154]], dtype=int32)>"
      ]
     },
     "execution_count": 8,
     "metadata": {},
     "output_type": "execute_result"
    }
   ],
   "source": [
    "\n",
    "reshaped_X @ Y\n"
   ]
  },
  {
   "cell_type": "code",
   "execution_count": 9,
   "id": "423d0464-ade8-4f42-8dfd-7df523db77ea",
   "metadata": {},
   "outputs": [
    {
     "data": {
      "text/plain": [
       "<tf.Tensor: shape=(2, 2), dtype=int32, numpy=\n",
       "array([[ 58,  64],\n",
       "       [139, 154]], dtype=int32)>"
      ]
     },
     "execution_count": 9,
     "metadata": {},
     "output_type": "execute_result"
    }
   ],
   "source": [
    "\n",
    "tf.matmul(reshaped_X ,Y )"
   ]
  },
  {
   "cell_type": "code",
   "execution_count": 10,
   "id": "53591c0a-ddae-4bb9-9096-4fd0748e53d2",
   "metadata": {},
   "outputs": [
    {
     "data": {
      "text/plain": [
       "(<tf.Tensor: shape=(3, 2), dtype=int32, numpy=\n",
       " array([[1, 2],\n",
       "        [3, 4],\n",
       "        [5, 6]], dtype=int32)>,\n",
       " <tf.Tensor: shape=(2, 3), dtype=int32, numpy=\n",
       " array([[1, 2, 3],\n",
       "        [4, 5, 6]], dtype=int32)>,\n",
       " <tf.Tensor: shape=(2, 3), dtype=int32, numpy=\n",
       " array([[1, 3, 5],\n",
       "        [2, 4, 6]], dtype=int32)>)"
      ]
     },
     "execution_count": 10,
     "metadata": {},
     "output_type": "execute_result"
    }
   ],
   "source": [
    "\n",
    "# reshape ko satta transpose pani garna abs \n",
    "\n",
    "X , reshaped_X ,tf.transpose(X)"
   ]
  },
  {
   "cell_type": "markdown",
   "id": "6b83aee7-3a4b-4ef7-973a-58bccc2e0c01",
   "metadata": {},
   "source": [
    "# The dot product\n",
    "\n",
    " ## ---> Multiplying matrices by eachother is also referred to as the dot product.\n",
    "\n",
    "## ---> We can perform the tf.matmul() operation using tf.tensordot()."
   ]
  },
  {
   "cell_type": "markdown",
   "id": "e32063fb-626d-4691-8500-dace65376d6e",
   "metadata": {},
   "source": [
    "# tf.tensordot() function\n",
    "\n",
    "## Syntax :- \n",
    "## ---> tf.tensordot(a, b, axes, name=None )\n"
   ]
  },
  {
   "cell_type": "code",
   "execution_count": 11,
   "id": "46a18e7e-918f-4f27-bd36-11b114ae58dd",
   "metadata": {},
   "outputs": [
    {
     "data": {
      "text/plain": [
       "<tf.Tensor: shape=(2, 2), dtype=int32, numpy=\n",
       "array([[ 89,  98],\n",
       "       [116, 128]], dtype=int32)>"
      ]
     },
     "execution_count": 11,
     "metadata": {},
     "output_type": "execute_result"
    }
   ],
   "source": [
    "\n",
    "# performing dot product on X and Y  (X ra Y madhye kunai euta reshape/transpose garna parxa )\n",
    "\n",
    "tf.tensordot(tf.transpose(X) ,Y , axes =1 )\n"
   ]
  },
  {
   "cell_type": "code",
   "execution_count": 12,
   "id": "493ab29f-8690-4bf9-9b26-491b2dc43eb7",
   "metadata": {},
   "outputs": [
    {
     "data": {
      "text/plain": [
       "<tf.Tensor: shape=(3, 3), dtype=int32, numpy=\n",
       "array([[ 23,  29,  35],\n",
       "       [ 53,  67,  81],\n",
       "       [ 83, 105, 127]], dtype=int32)>"
      ]
     },
     "execution_count": 12,
     "metadata": {},
     "output_type": "execute_result"
    }
   ],
   "source": [
    "\n",
    "# performing matrix multiplication on X and Y(transposed)\n",
    "\n",
    "tf.matmul(X , tf.transpose(Y))\n"
   ]
  },
  {
   "cell_type": "code",
   "execution_count": 13,
   "id": "7ed0a5e0-4931-47e8-8b61-ec32a0fd5f1e",
   "metadata": {},
   "outputs": [
    {
     "data": {
      "text/plain": [
       "<tf.Tensor: shape=(3, 3), dtype=int32, numpy=\n",
       "array([[ 27,  30,  33],\n",
       "       [ 61,  68,  75],\n",
       "       [ 95, 106, 117]], dtype=int32)>"
      ]
     },
     "execution_count": 13,
     "metadata": {},
     "output_type": "execute_result"
    }
   ],
   "source": [
    "\n",
    "# performing matrix multiplication on X and Y( reshaped ) \n",
    "\n",
    "tf.matmul(X , tf.reshape(Y , shape = (2,3) ))\n"
   ]
  },
  {
   "cell_type": "code",
   "execution_count": 14,
   "id": "76fba351-ff08-4f0c-9170-752049acfd22",
   "metadata": {},
   "outputs": [
    {
     "name": "stdout",
     "output_type": "stream",
     "text": [
      "Normal Y:\n",
      "tf.Tensor(\n",
      "[[ 7  8]\n",
      " [ 9 10]\n",
      " [11 12]], shape=(3, 2), dtype=int32) \n",
      "\n",
      "Y reshaped to (2, 3):\n",
      "tf.Tensor(\n",
      "[[ 7  8  9]\n",
      " [10 11 12]], shape=(2, 3), dtype=int32) \n",
      "\n",
      "Y transposed:\n",
      "tf.Tensor(\n",
      "[[ 7  9 11]\n",
      " [ 8 10 12]], shape=(2, 3), dtype=int32)\n"
     ]
    }
   ],
   "source": [
    "\n",
    "# Check values of Y, reshape Y and tranposed Y\n",
    "\n",
    "print(\"Normal Y:\")\n",
    "print(Y, \"\\n\") # \"\\n\" for newline\n",
    "\n",
    "print(\"Y reshaped to (2, 3):\")\n",
    "print(tf.reshape(Y, (2, 3)), \"\\n\")\n",
    "\n",
    "print(\"Y transposed:\")\n",
    "print(tf.transpose(Y))\n",
    "     "
   ]
  },
  {
   "cell_type": "markdown",
   "id": "1179e3c5-0ce9-4e42-a1f3-9bb15b432357",
   "metadata": {},
   "source": [
    "\n",
    "\n",
    "As we can see, the outputs of tf.reshape() and tf.transpose() when called on Y, even though they have the same shape, are different.\n",
    "\n",
    "This can be explained by the default behaviour of each method:\n",
    "\n",
    "    tf.reshape() - change the shape of the given tensor (first) and then insert values in order they appear (in our case, 7, 8, 9, 10, 11, 12).\n",
    "    \n",
    "    tf.transpose() - swap the order of the axes, by default the last axis becomes the first, however the order can be changed using the perm parameter.\n",
    "\n",
    "So which should you use?\n",
    "\n",
    "--> Again, most of the time these operations (when they need to be run, such as during the training a neural network, will be implemented for you).\n",
    "\n",
    "---> But generally, whenever performing a matrix multiplication and the shapes of two matrices don't line up, you will transpose (not reshape) one of them in order to line them up.\n"
   ]
  },
  {
   "cell_type": "code",
   "execution_count": null,
   "id": "21f1fa65-6a98-4485-b7a8-756833d9c838",
   "metadata": {},
   "outputs": [],
   "source": []
  }
 ],
 "metadata": {
  "kernelspec": {
   "display_name": "tfenv",
   "language": "python",
   "name": "myenv"
  },
  "language_info": {
   "codemirror_mode": {
    "name": "ipython",
    "version": 3
   },
   "file_extension": ".py",
   "mimetype": "text/x-python",
   "name": "python",
   "nbconvert_exporter": "python",
   "pygments_lexer": "ipython3",
   "version": "3.7.16"
  }
 },
 "nbformat": 4,
 "nbformat_minor": 5
}
