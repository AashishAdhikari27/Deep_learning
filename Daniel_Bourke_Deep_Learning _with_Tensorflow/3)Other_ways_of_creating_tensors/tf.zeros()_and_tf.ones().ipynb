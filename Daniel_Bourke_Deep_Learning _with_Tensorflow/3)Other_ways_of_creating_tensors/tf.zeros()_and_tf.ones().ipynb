{
 "cells": [
  {
   "cell_type": "markdown",
   "id": "94c515ae-ef4b-4d44-a4f9-4b4feb38fa02",
   "metadata": {},
   "source": [
    "# Other ways to create tensors :-"
   ]
  },
  {
   "cell_type": "code",
   "execution_count": 3,
   "id": "61652955-19bc-4ed3-8b1a-ac8eba053a8a",
   "metadata": {},
   "outputs": [
    {
     "name": "stdout",
     "output_type": "stream",
     "text": [
      "2.10.0\n"
     ]
    }
   ],
   "source": [
    "\n",
    "# Importing TensorFlow\n",
    "\n",
    "import tensorflow as tf\n",
    "\n",
    "print(tf.__version__) \n"
   ]
  },
  {
   "cell_type": "markdown",
   "id": "a9ebac59-8665-4cca-8c3c-d03efa1a9d0e",
   "metadata": {},
   "source": [
    "# rarely use bhaye pani ,tf.ones() ra tf.zeros() use garera 0 \\matrai vayeko ra 1 matrai vayeko jun size/shape ko tensor banauna sakinxam"
   ]
  },
  {
   "cell_type": "code",
   "execution_count": 7,
   "id": "6bed55a3-81cb-422c-814f-ce12a04404d0",
   "metadata": {},
   "outputs": [
    {
     "data": {
      "text/plain": [
       "<tf.Tensor: shape=(5, 5), dtype=float32, numpy=\n",
       "array([[1., 1., 1., 1., 1.],\n",
       "       [1., 1., 1., 1., 1.],\n",
       "       [1., 1., 1., 1., 1.],\n",
       "       [1., 1., 1., 1., 1.],\n",
       "       [1., 1., 1., 1., 1.]], dtype=float32)>"
      ]
     },
     "execution_count": 7,
     "metadata": {},
     "output_type": "execute_result"
    }
   ],
   "source": [
    "\n",
    "# Make a tensor of all ones\n",
    "tf.ones(shape=(5,5))\n"
   ]
  },
  {
   "cell_type": "code",
   "execution_count": 8,
   "id": "e94fb5c0-dd62-4f64-a3e9-d6457bf0b724",
   "metadata": {},
   "outputs": [
    {
     "data": {
      "text/plain": [
       "<tf.Tensor: shape=(3, 7), dtype=float32, numpy=\n",
       "array([[0., 0., 0., 0., 0., 0., 0.],\n",
       "       [0., 0., 0., 0., 0., 0., 0.],\n",
       "       [0., 0., 0., 0., 0., 0., 0.]], dtype=float32)>"
      ]
     },
     "execution_count": 8,
     "metadata": {},
     "output_type": "execute_result"
    }
   ],
   "source": [
    "\n",
    "\n",
    "\n",
    "# Make a tensor of all zeros\n",
    "tf.zeros(shape=(3, 7))\n",
    "     \n"
   ]
  },
  {
   "cell_type": "code",
   "execution_count": null,
   "id": "da24f598-f14a-40eb-9c15-739eda4452ed",
   "metadata": {},
   "outputs": [],
   "source": []
  }
 ],
 "metadata": {
  "kernelspec": {
   "display_name": "tfenv",
   "language": "python",
   "name": "myenv"
  },
  "language_info": {
   "codemirror_mode": {
    "name": "ipython",
    "version": 3
   },
   "file_extension": ".py",
   "mimetype": "text/x-python",
   "name": "python",
   "nbconvert_exporter": "python",
   "pygments_lexer": "ipython3",
   "version": "3.7.16"
  }
 },
 "nbformat": 4,
 "nbformat_minor": 5
}
