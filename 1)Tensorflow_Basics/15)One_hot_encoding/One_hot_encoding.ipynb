{
 "cells": [
  {
   "cell_type": "markdown",
   "id": "aefd4abe-b11f-412b-a0cc-ce58a5f576ee",
   "metadata": {},
   "source": [
    "# One hot encoding tensors :-\n",
    "\n",
    "### ---> One-hot encoding is a technique used in machine learning and data processing to represent categorical data in a numerical format. \n",
    "\n",
    "### ---> It is commonly used when dealing with categorical variables that have a limited number of distinct values or classes.\n",
    "\n",
    "### ---> In one-hot encoding, each category or class is represented by a binary vector where each element corresponds to a possible category, and only one element is \"hot\" (set to 1) while the others are \"cold\" (set to 0). \n",
    "### ---> This hot element indicates the presence of a particular category.\n"
   ]
  },
  {
   "cell_type": "code",
   "execution_count": 5,
   "id": "25728c3f-7ad3-455d-bea5-a575395fadeb",
   "metadata": {},
   "outputs": [],
   "source": [
    "\n",
    "import tensorflow as tf"
   ]
  },
  {
   "cell_type": "code",
   "execution_count": 8,
   "id": "a52331e4-8425-40da-a35a-dcfc0aa57706",
   "metadata": {},
   "outputs": [
    {
     "data": {
      "text/plain": [
       "<tf.Tensor: shape=(4, 4), dtype=float32, numpy=\n",
       "array([[1., 0., 0., 0.],\n",
       "       [0., 1., 0., 0.],\n",
       "       [0., 0., 1., 0.],\n",
       "       [0., 0., 0., 1.]], dtype=float32)>"
      ]
     },
     "execution_count": 8,
     "metadata": {},
     "output_type": "execute_result"
    }
   ],
   "source": [
    "# Create a list of indices\n",
    "some_list = [0, 1, 2, 3]\n",
    "\n",
    "# One hot encode them\n",
    "tf.one_hot(some_list, depth=4)"
   ]
  },
  {
   "cell_type": "code",
   "execution_count": 7,
   "id": "11d5a538-4a3e-49ef-9a67-55eff2d25c27",
   "metadata": {},
   "outputs": [
    {
     "data": {
      "text/plain": [
       "<tf.Tensor: shape=(4, 4), dtype=string, numpy=\n",
       "array([[b'Noicee!!', b'Choicee!!', b'Choicee!!', b'Choicee!!'],\n",
       "       [b'Choicee!!', b'Noicee!!', b'Choicee!!', b'Choicee!!'],\n",
       "       [b'Choicee!!', b'Choicee!!', b'Noicee!!', b'Choicee!!'],\n",
       "       [b'Choicee!!', b'Choicee!!', b'Choicee!!', b'Noicee!!']],\n",
       "      dtype=object)>"
      ]
     },
     "execution_count": 7,
     "metadata": {},
     "output_type": "execute_result"
    }
   ],
   "source": [
    "\n",
    "\n",
    "# Specify custom values for on and off encoding\n",
    "tf.one_hot(some_list, depth=4, on_value=\"Noicee!!\", off_value=\"Choicee!!\")\n",
    "     \n"
   ]
  },
  {
   "cell_type": "code",
   "execution_count": 9,
   "id": "13b2f5d7-da8a-43ea-b90e-6a976ab9f079",
   "metadata": {},
   "outputs": [
    {
     "data": {
      "text/plain": [
       "<tf.Tensor: shape=(4, 4), dtype=string, numpy=\n",
       "array([[b'I love deep learning.', b'I hate java!!', b'I hate java!!',\n",
       "        b'I hate java!!'],\n",
       "       [b'I hate java!!', b'I love deep learning.', b'I hate java!!',\n",
       "        b'I hate java!!'],\n",
       "       [b'I hate java!!', b'I hate java!!', b'I love deep learning.',\n",
       "        b'I hate java!!'],\n",
       "       [b'I hate java!!', b'I hate java!!', b'I hate java!!',\n",
       "        b'I love deep learning.']], dtype=object)>"
      ]
     },
     "execution_count": 9,
     "metadata": {},
     "output_type": "execute_result"
    }
   ],
   "source": [
    "# Specify custom values for on and off encoding\n",
    "tf.one_hot(some_list, depth=4, on_value=\"I love deep learning.\", off_value=\"I hate java!!\")\n",
    "     \n"
   ]
  },
  {
   "cell_type": "code",
   "execution_count": null,
   "id": "4894a3d7-9f35-4b5b-bffe-1957b7d31c3b",
   "metadata": {},
   "outputs": [],
   "source": []
  }
 ],
 "metadata": {
  "kernelspec": {
   "display_name": "tfenv",
   "language": "python",
   "name": "myenv"
  },
  "language_info": {
   "codemirror_mode": {
    "name": "ipython",
    "version": 3
   },
   "file_extension": ".py",
   "mimetype": "text/x-python",
   "name": "python",
   "nbconvert_exporter": "python",
   "pygments_lexer": "ipython3",
   "version": "3.7.16"
  }
 },
 "nbformat": 4,
 "nbformat_minor": 5
}
