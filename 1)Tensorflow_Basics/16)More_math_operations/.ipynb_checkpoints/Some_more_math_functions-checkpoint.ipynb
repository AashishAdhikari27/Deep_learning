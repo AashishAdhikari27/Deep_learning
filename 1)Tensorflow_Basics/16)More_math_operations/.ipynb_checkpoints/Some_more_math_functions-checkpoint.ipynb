{
 "cells": [
  {
   "cell_type": "markdown",
   "id": "64bca6e5-87da-4b88-a4c1-31cb625a5c83",
   "metadata": {},
   "source": [
    "Squaring , Square root ,log etc...."
   ]
  },
  {
   "cell_type": "code",
   "execution_count": 3,
   "id": "1bccdd20-acc3-4f94-b9ac-08819cd8ed6d",
   "metadata": {},
   "outputs": [],
   "source": [
    "\n",
    "import tensorflow as tf\n"
   ]
  },
  {
   "cell_type": "code",
   "execution_count": 4,
   "id": "ccb52514-fdfc-4424-8753-aa814e609ff9",
   "metadata": {},
   "outputs": [
    {
     "data": {
      "text/plain": [
       "<tf.Tensor: shape=(9,), dtype=int32, numpy=array([1, 2, 3, 4, 5, 6, 7, 8, 9], dtype=int32)>"
      ]
     },
     "execution_count": 4,
     "metadata": {},
     "output_type": "execute_result"
    }
   ],
   "source": [
    "\n",
    "# creating a tensor \n",
    "\n",
    "A = tf.range(1,10)\n",
    "\n",
    "A\n"
   ]
  },
  {
   "cell_type": "code",
   "execution_count": 5,
   "id": "6fdf2cba-e1d1-42a7-bba1-533d714433f0",
   "metadata": {},
   "outputs": [
    {
     "data": {
      "text/plain": [
       "<tf.Tensor: shape=(9,), dtype=int32, numpy=array([ 1,  4,  9, 16, 25, 36, 49, 64, 81], dtype=int32)>"
      ]
     },
     "execution_count": 5,
     "metadata": {},
     "output_type": "execute_result"
    }
   ],
   "source": [
    "\n",
    "# tensor ko square nikaleko\n",
    "\n",
    "tf.square(A)"
   ]
  },
  {
   "cell_type": "code",
   "execution_count": null,
   "id": "982b4dcf-c2e2-4911-a02b-62bea4cebb48",
   "metadata": {},
   "outputs": [],
   "source": [
    "\n",
    "\n",
    "# finding squareroot (will error as method needs non int type)\n",
    "\n",
    "tf.sqrt(A)"
   ]
  },
  {
   "cell_type": "code",
   "execution_count": 7,
   "id": "0cd63506-3128-48fd-b324-0f0e7ed37642",
   "metadata": {},
   "outputs": [
    {
     "data": {
      "text/plain": [
       "<tf.Tensor: shape=(9,), dtype=float32, numpy=\n",
       "array([1.       , 1.4142135, 1.7320508, 2.       , 2.236068 , 2.4494898,\n",
       "       2.6457512, 2.828427 , 3.       ], dtype=float32)>"
      ]
     },
     "execution_count": 7,
     "metadata": {},
     "output_type": "execute_result"
    }
   ],
   "source": [
    "\n",
    "# finding squareroot\n",
    "\n",
    "tf.sqrt(tf.cast(A, dtype = tf.float32))\n"
   ]
  },
  {
   "cell_type": "code",
   "execution_count": 9,
   "id": "a3fee887-cb22-4926-97f9-fb95c0675783",
   "metadata": {},
   "outputs": [],
   "source": [
    "\n",
    "# finding log (will error as method needs non int type)\n",
    "\n",
    "# tf.math.log(A)"
   ]
  },
  {
   "cell_type": "code",
   "execution_count": 10,
   "id": "e88555a6-338b-433e-ae79-87ed464d3113",
   "metadata": {},
   "outputs": [
    {
     "data": {
      "text/plain": [
       "<tf.Tensor: shape=(9,), dtype=float32, numpy=\n",
       "array([0.       , 0.6931472, 1.0986123, 1.3862944, 1.609438 , 1.7917595,\n",
       "       1.9459102, 2.0794415, 2.1972246], dtype=float32)>"
      ]
     },
     "execution_count": 10,
     "metadata": {},
     "output_type": "execute_result"
    }
   ],
   "source": [
    "\n",
    "# finding log \n",
    "tf.math.log(tf.cast(A, dtype = tf.float32))"
   ]
  },
  {
   "cell_type": "code",
   "execution_count": null,
   "id": "599872e2-3ff4-46ca-a493-924a91c1e01f",
   "metadata": {},
   "outputs": [],
   "source": []
  }
 ],
 "metadata": {
  "kernelspec": {
   "display_name": "tfenv",
   "language": "python",
   "name": "myenv"
  },
  "language_info": {
   "codemirror_mode": {
    "name": "ipython",
    "version": 3
   },
   "file_extension": ".py",
   "mimetype": "text/x-python",
   "name": "python",
   "nbconvert_exporter": "python",
   "pygments_lexer": "ipython3",
   "version": "3.7.16"
  }
 },
 "nbformat": 4,
 "nbformat_minor": 5
}
