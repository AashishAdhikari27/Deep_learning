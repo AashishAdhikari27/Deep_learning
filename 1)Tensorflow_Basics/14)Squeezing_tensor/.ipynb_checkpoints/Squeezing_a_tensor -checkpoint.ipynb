{
 "cells": [
  {
   "cell_type": "markdown",
   "id": "5efda8ab-8d8e-44e2-99e6-55f8897b8096",
   "metadata": {},
   "source": [
    "# Squeezing a tensor (removing all single dimensions)\n",
    "\n",
    "If you need to remove single-dimensions from a tensor (dimensions with size 1), you can use tf.squeeze().\n",
    "\n",
    "    tf.squeeze() - remove all dimensions of 1 from a tensor.\n",
    "\n"
   ]
  },
  {
   "cell_type": "code",
   "execution_count": 3,
   "id": "f5ced215-838a-42c0-b6e7-e6882363513a",
   "metadata": {},
   "outputs": [],
   "source": [
    "\n",
    "import tensorflow as tf\n"
   ]
  },
  {
   "cell_type": "code",
   "execution_count": 4,
   "id": "ed39cb7c-16a1-45ec-813f-8346f7c4ef70",
   "metadata": {},
   "outputs": [
    {
     "data": {
      "text/plain": [
       "<tf.Tensor: shape=(1, 1, 1, 1, 50), dtype=float32, numpy=\n",
       "array([[[[[0.2998755 , 0.2734115 , 0.69984627, 0.1717695 , 0.03640103,\n",
       "           0.9128827 , 0.02025092, 0.8913562 , 0.24687397, 0.2729286 ,\n",
       "           0.45736682, 0.9884795 , 0.90430105, 0.54592705, 0.4604069 ,\n",
       "           0.1764015 , 0.29320335, 0.33672857, 0.5323583 , 0.00922716,\n",
       "           0.6484655 , 0.922819  , 0.99794126, 0.83388937, 0.10144854,\n",
       "           0.9926413 , 0.7890916 , 0.426309  , 0.55213654, 0.74826217,\n",
       "           0.29045606, 0.8713118 , 0.19940615, 0.93712544, 0.9930042 ,\n",
       "           0.68096006, 0.24637675, 0.7561927 , 0.59068716, 0.42166078,\n",
       "           0.90191436, 0.62787604, 0.12385845, 0.51039493, 0.1675731 ,\n",
       "           0.6381587 , 0.44848883, 0.95180655, 0.458596  , 0.20700502]]]]],\n",
       "      dtype=float32)>"
      ]
     },
     "execution_count": 4,
     "metadata": {},
     "output_type": "execute_result"
    }
   ],
   "source": [
    "\n",
    "# Creating a rank 5 (5 dimensions) tensor of 50 numbers between 0 and 100\n",
    "\n",
    "\n",
    "A = tf.constant(tf.random.uniform(shape =[50]) , shape =(1 , 1 , 1 , 1 , 50))\n",
    "\n",
    "A\n"
   ]
  },
  {
   "cell_type": "code",
   "execution_count": 6,
   "id": "754a9ebd-9715-4278-b99b-d7a099e3ee67",
   "metadata": {},
   "outputs": [
    {
     "data": {
      "text/plain": [
       "TensorShape([1, 1, 1, 1, 50])"
      ]
     },
     "execution_count": 6,
     "metadata": {},
     "output_type": "execute_result"
    }
   ],
   "source": [
    "A.shape"
   ]
  },
  {
   "cell_type": "code",
   "execution_count": 7,
   "id": "81d7bc63-fb25-428c-9f1e-eb775ecbfad7",
   "metadata": {},
   "outputs": [
    {
     "data": {
      "text/plain": [
       "<tf.Tensor: shape=(50,), dtype=float32, numpy=\n",
       "array([0.2998755 , 0.2734115 , 0.69984627, 0.1717695 , 0.03640103,\n",
       "       0.9128827 , 0.02025092, 0.8913562 , 0.24687397, 0.2729286 ,\n",
       "       0.45736682, 0.9884795 , 0.90430105, 0.54592705, 0.4604069 ,\n",
       "       0.1764015 , 0.29320335, 0.33672857, 0.5323583 , 0.00922716,\n",
       "       0.6484655 , 0.922819  , 0.99794126, 0.83388937, 0.10144854,\n",
       "       0.9926413 , 0.7890916 , 0.426309  , 0.55213654, 0.74826217,\n",
       "       0.29045606, 0.8713118 , 0.19940615, 0.93712544, 0.9930042 ,\n",
       "       0.68096006, 0.24637675, 0.7561927 , 0.59068716, 0.42166078,\n",
       "       0.90191436, 0.62787604, 0.12385845, 0.51039493, 0.1675731 ,\n",
       "       0.6381587 , 0.44848883, 0.95180655, 0.458596  , 0.20700502],\n",
       "      dtype=float32)>"
      ]
     },
     "execution_count": 7,
     "metadata": {},
     "output_type": "execute_result"
    }
   ],
   "source": [
    "\n",
    "# squeezing A\n",
    "\n",
    "A_squeezed = tf.squeeze(A)\n",
    "\n",
    "A_squeezed "
   ]
  },
  {
   "cell_type": "code",
   "execution_count": 9,
   "id": "bf969379-b348-4351-badb-554704088158",
   "metadata": {},
   "outputs": [
    {
     "data": {
      "text/plain": [
       "(TensorShape([50]), TensorShape([1, 1, 1, 1, 50]))"
      ]
     },
     "execution_count": 9,
     "metadata": {},
     "output_type": "execute_result"
    }
   ],
   "source": [
    "A_squeezed.shape , A.shape"
   ]
  },
  {
   "cell_type": "code",
   "execution_count": null,
   "id": "aa1de5b9-8948-42bc-85eb-d9bd3f34ceaa",
   "metadata": {},
   "outputs": [],
   "source": []
  }
 ],
 "metadata": {
  "kernelspec": {
   "display_name": "tfenv",
   "language": "python",
   "name": "myenv"
  },
  "language_info": {
   "codemirror_mode": {
    "name": "ipython",
    "version": 3
   },
   "file_extension": ".py",
   "mimetype": "text/x-python",
   "name": "python",
   "nbconvert_exporter": "python",
   "pygments_lexer": "ipython3",
   "version": "3.7.16"
  }
 },
 "nbformat": 4,
 "nbformat_minor": 5
}
