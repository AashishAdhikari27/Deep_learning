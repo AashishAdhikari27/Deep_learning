{
 "cells": [
  {
   "cell_type": "markdown",
   "id": "d10b137d-9317-403c-bc17-38748ae1fd62",
   "metadata": {},
   "source": [
    "### Aggregating tensors \n",
    "\n",
    "### ---> Aggregating tensors vannale multiple tensors harulai combine garnu ho using mathematical operations like sum, average, max, or min.\n"
   ]
  },
  {
   "cell_type": "code",
   "execution_count": 10,
   "id": "8003128e-c826-4a14-b4c3-a883138c48db",
   "metadata": {},
   "outputs": [
    {
     "data": {
      "text/plain": [
       "'2.10.0'"
      ]
     },
     "execution_count": 10,
     "metadata": {},
     "output_type": "execute_result"
    }
   ],
   "source": [
    "\n",
    "import tensorflow as tf\n",
    "\n",
    "tf.__version__\n"
   ]
  },
  {
   "cell_type": "code",
   "execution_count": 11,
   "id": "62e80218-d029-4a27-8ebf-de9adbe0bd30",
   "metadata": {},
   "outputs": [
    {
     "data": {
      "text/plain": [
       "<tf.Tensor: shape=(2,), dtype=int32, numpy=array([ -7, -10], dtype=int32)>"
      ]
     },
     "execution_count": 11,
     "metadata": {},
     "output_type": "execute_result"
    }
   ],
   "source": [
    "\n",
    "# Creating a tensor\n",
    "\n",
    "D = tf.constant([-7 , -10])\n",
    "\n",
    "D\n"
   ]
  },
  {
   "cell_type": "code",
   "execution_count": 3,
   "id": "89985271-a310-412a-9244-bfcd618bea61",
   "metadata": {},
   "outputs": [
    {
     "data": {
      "text/plain": [
       "<tf.Tensor: shape=(2,), dtype=int32, numpy=array([ 7, 10], dtype=int32)>"
      ]
     },
     "execution_count": 3,
     "metadata": {},
     "output_type": "execute_result"
    }
   ],
   "source": [
    "\n",
    "# Getting the absolute values\n",
    "\n",
    "tf.abs(D)\n"
   ]
  },
  {
   "cell_type": "markdown",
   "id": "f05ffa5c-ddca-48f5-9b8b-ecb17e542bac",
   "metadata": {},
   "source": [
    "### Aggregation of tensor maa hamile following forms of aggregation explore garxam :-abs\n",
    "\n",
    "### ---> 1) Getting the minimum\n",
    "### ---> 2) Getting the maximum\n",
    "### ---> 3) Getting the mean of tensor\n",
    "### ---> 2) Getting the sum of tensor\n",
    "\n",
    "Finding the min, max, mean, sum (aggregation)\n",
    "\n",
    "We can quickly aggregate (perform a calculation on a whole tensor) tensors to find things like the minimum value, maximum value, mean and sum of all the elements.\n",
    "\n",
    "To do so, aggregation methods typically have the syntax reduce()_[action], such as:\n",
    "\n",
    "    tf.reduce_min() - find the minimum value in a tensor.\n",
    "    \n",
    "    tf.reduce_max() - find the maximum value in a tensor (helpful for when you want to find the highest prediction probability).\n",
    "    \n",
    "    tf.reduce_mean() - find the mean of all elements in a tensor.\n",
    "    \n",
    "    tf.reduce_sum() - find the sum of all elements in a tensor.\n",
    "    \n",
    "    Note: typically, each of these is under the math module, e.g. tf.math.reduce_min() but you can use the alias tf.reduce_min().\n",
    "\n"
   ]
  },
  {
   "cell_type": "code",
   "execution_count": 4,
   "id": "f10970c7-e3de-4588-8884-0ef44466df88",
   "metadata": {},
   "outputs": [
    {
     "data": {
      "text/plain": [
       "<tf.Tensor: shape=(50,), dtype=int64, numpy=\n",
       "array([28, 62, 38, 39,  6,  7, 52, 94, 42, 71, 92, 82, 13, 31, 67, 55,  2,\n",
       "       88, 10, 61, 37, 19, 59, 42, 97, 48, 70, 91, 24,  5,  9, 10, 33, 38,\n",
       "       96, 39, 99, 14, 18, 40, 59, 21, 21, 26, 88,  7, 41, 10, 25, 51])>"
      ]
     },
     "execution_count": 4,
     "metadata": {},
     "output_type": "execute_result"
    }
   ],
   "source": [
    "\n",
    "import numpy as np\n",
    "\n",
    "# Create a tensor with 50 random values between 0 and 100\n",
    "E = tf.constant(np.random.randint(low=0, high=100, size=50))\n",
    "\n",
    "E"
   ]
  },
  {
   "cell_type": "code",
   "execution_count": 5,
   "id": "57516c69-7f09-4300-8401-2664fc5119ad",
   "metadata": {},
   "outputs": [
    {
     "data": {
      "text/plain": [
       "<tf.Tensor: shape=(), dtype=int64, numpy=2>"
      ]
     },
     "execution_count": 5,
     "metadata": {},
     "output_type": "execute_result"
    }
   ],
   "source": [
    "\n",
    "# Find the minimum\n",
    "tf.reduce_min(E)\n",
    "     "
   ]
  },
  {
   "cell_type": "code",
   "execution_count": 6,
   "id": "046fb3eb-9b78-4d78-a9a0-a532a3ae094c",
   "metadata": {},
   "outputs": [
    {
     "data": {
      "text/plain": [
       "<tf.Tensor: shape=(), dtype=int64, numpy=99>"
      ]
     },
     "execution_count": 6,
     "metadata": {},
     "output_type": "execute_result"
    }
   ],
   "source": [
    "\n",
    "# Find the maximum\n",
    "tf.reduce_max(E)\n",
    "     "
   ]
  },
  {
   "cell_type": "code",
   "execution_count": 7,
   "id": "36def841-e5d7-48ac-b067-aa8652724669",
   "metadata": {},
   "outputs": [
    {
     "data": {
      "text/plain": [
       "<tf.Tensor: shape=(), dtype=int64, numpy=43>"
      ]
     },
     "execution_count": 7,
     "metadata": {},
     "output_type": "execute_result"
    }
   ],
   "source": [
    "\n",
    "# Find the mean\n",
    "tf.reduce_mean(E)\n",
    "     "
   ]
  },
  {
   "cell_type": "code",
   "execution_count": 8,
   "id": "07c78b86-3c51-4e93-ab07-f6c88d6622fb",
   "metadata": {},
   "outputs": [
    {
     "data": {
      "text/plain": [
       "<tf.Tensor: shape=(), dtype=int64, numpy=2177>"
      ]
     },
     "execution_count": 8,
     "metadata": {},
     "output_type": "execute_result"
    }
   ],
   "source": [
    "\n",
    "# Find the sum\n",
    "tf.reduce_sum(E)\n",
    "     "
   ]
  },
  {
   "cell_type": "markdown",
   "id": "3c720d10-0846-405e-8c13-e586bd4cc1c4",
   "metadata": {},
   "source": [
    "### We can also find the standard deviation (tf.math.reduce_std()) and variance (tf.math.reduce_variance()) of elements in a tensor using similar methods."
   ]
  },
  {
   "cell_type": "code",
   "execution_count": 15,
   "id": "83b52691-6b15-4ffa-9fb2-dd4503c780b3",
   "metadata": {},
   "outputs": [
    {
     "data": {
      "text/plain": [
       "<tf.Tensor: shape=(50,), dtype=float16, numpy=\n",
       "array([28., 62., 38., 39.,  6.,  7., 52., 94., 42., 71., 92., 82., 13.,\n",
       "       31., 67., 55.,  2., 88., 10., 61., 37., 19., 59., 42., 97., 48.,\n",
       "       70., 91., 24.,  5.,  9., 10., 33., 38., 96., 39., 99., 14., 18.,\n",
       "       40., 59., 21., 21., 26., 88.,  7., 41., 10., 25., 51.],\n",
       "      dtype=float16)>"
      ]
     },
     "execution_count": 15,
     "metadata": {},
     "output_type": "execute_result"
    }
   ],
   "source": [
    "\n",
    "# Find the varience of tensor:-\n",
    "# tf.math.reduce_variance(E)\n",
    "\n",
    "# this doesnot work as we ned to change the dtype of the tensor E into float \n",
    "\n",
    "F = tf.cast(E, dtype= tf.float16)\n",
    "\n",
    "F\n"
   ]
  },
  {
   "cell_type": "code",
   "execution_count": 16,
   "id": "e188c8e6-abc6-418a-bb7e-c75295a763e9",
   "metadata": {},
   "outputs": [
    {
     "data": {
      "text/plain": [
       "<tf.Tensor: shape=(), dtype=float16, numpy=846.0>"
      ]
     },
     "execution_count": 16,
     "metadata": {},
     "output_type": "execute_result"
    }
   ],
   "source": [
    "\n",
    "# varience nikaleko\n",
    "tf.math.reduce_variance(F)\n"
   ]
  },
  {
   "cell_type": "code",
   "execution_count": 19,
   "id": "2ba5b523-3dcc-412d-afe6-2d92b4f10059",
   "metadata": {},
   "outputs": [
    {
     "data": {
      "text/plain": [
       "<tf.Tensor: shape=(), dtype=float16, numpy=29.1>"
      ]
     },
     "execution_count": 19,
     "metadata": {},
     "output_type": "execute_result"
    }
   ],
   "source": [
    "\n",
    "# standard deviation nikaleko\n",
    "\n",
    "tf.math.reduce_std(F)\n"
   ]
  }
 ],
 "metadata": {
  "kernelspec": {
   "display_name": "tfenv",
   "language": "python",
   "name": "myenv"
  },
  "language_info": {
   "codemirror_mode": {
    "name": "ipython",
    "version": 3
   },
   "file_extension": ".py",
   "mimetype": "text/x-python",
   "name": "python",
   "nbconvert_exporter": "python",
   "pygments_lexer": "ipython3",
   "version": "3.7.16"
  }
 },
 "nbformat": 4,
 "nbformat_minor": 5
}
