{
 "cells": [
  {
   "cell_type": "markdown",
   "id": "f19d0cfb-740e-4de7-abd4-31f25dc61f58",
   "metadata": {
    "tags": []
   },
   "source": [
    "# Creating random tensors\n",
    "\n",
    "## --> Random tensors are of arbitary size ,which contain random numbers\n"
   ]
  },
  {
   "cell_type": "code",
   "execution_count": 4,
   "id": "a69967aa-add9-4d30-8bfd-9e5506178f50",
   "metadata": {},
   "outputs": [
    {
     "name": "stdout",
     "output_type": "stream",
     "text": [
      "2.10.0\n"
     ]
    }
   ],
   "source": [
    "\n",
    "# Importing TensorFlow\n",
    "\n",
    "import tensorflow as tf\n",
    "\n",
    "print(tf.__version__) "
   ]
  },
  {
   "cell_type": "code",
   "execution_count": 5,
   "id": "527ab53b-cf0e-48f2-87c1-f91debb4bd51",
   "metadata": {},
   "outputs": [
    {
     "data": {
      "text/plain": [
       "(<tf.Tensor: shape=(3, 2), dtype=float32, numpy=\n",
       " array([[-0.7565803 , -0.06854702],\n",
       "        [ 0.07595026, -1.2573844 ],\n",
       "        [-0.23193763, -1.8107855 ]], dtype=float32)>,\n",
       " <tf.Tensor: shape=(3, 2), dtype=float32, numpy=\n",
       " array([[-0.7565803 , -0.06854702],\n",
       "        [ 0.07595026, -1.2573844 ],\n",
       "        [-0.23193763, -1.8107855 ]], dtype=float32)>,\n",
       " <tf.Tensor: shape=(3, 2), dtype=bool, numpy=\n",
       " array([[ True,  True],\n",
       "        [ True,  True],\n",
       "        [ True,  True]])>)"
      ]
     },
     "execution_count": 5,
     "metadata": {},
     "output_type": "execute_result"
    }
   ],
   "source": [
    "\n",
    "# Creating two random (but the same ) tensors \n",
    "\n",
    "# Creating two random (but the same) tensors\n",
    "random_gen = tf.random.Generator.from_seed(42)\n",
    "\n",
    "random_1 = random_gen.normal(shape=(3, 2))  # Generate tensor from a normal distribution\n",
    "\n",
    "random_gen = tf.random.Generator.from_seed(42)\n",
    "\n",
    "random_2 = random_gen.normal(shape=(3, 2))\n",
    "\n",
    "random_1,random_2,random_1==random_2"
   ]
  },
  {
   "cell_type": "markdown",
   "id": "fc540f8f-0940-4fc0-9173-248fc893cf15",
   "metadata": {},
   "source": [
    "# tf.random.Generator.from_seed(42)\n",
    "## -->  tf.random.Generator.from_seed(42) creates a random tensor is one way to ensure that you get the same sequence of random numbers each time you run your code.\n",
    "\n",
    "# -->yesle random number generator instance create garxa,jasle kunai specific sequence (determined by seed value) follow garera numbers generate garxa\n",
    "\n"
   ]
  },
  {
   "cell_type": "code",
   "execution_count": 7,
   "id": "aa78772e-5ad5-4d12-8215-551ace1ead33",
   "metadata": {},
   "outputs": [
    {
     "data": {
      "text/plain": [
       "<tf.Tensor: shape=(4, 3), dtype=float32, numpy=\n",
       "array([[-2.2592185 , -1.0228261 , -0.22953701],\n",
       "       [ 0.74923396,  1.7385935 ,  0.77194357],\n",
       "       [ 1.3070687 ,  0.12780498, -0.95390934],\n",
       "       [-0.8314998 , -0.6426141 , -0.6268184 ]], dtype=float32)>"
      ]
     },
     "execution_count": 7,
     "metadata": {},
     "output_type": "execute_result"
    }
   ],
   "source": [
    "\n",
    "#  Creating a roandom tensor using tf.random.normal\n",
    "\n",
    "normal_random_tensor = tf.random.normal(\n",
    "                                            (4,3),\n",
    "                                            mean=0.0,\n",
    "                                            stddev=1.0,\n",
    "                                            dtype=tf.dtypes.float32,\n",
    "                                            seed=None,\n",
    "                                            name=None\n",
    "                                     )\n",
    "normal_random_tensor\n",
    "\n",
    "\n"
   ]
  },
  {
   "cell_type": "code",
   "execution_count": 8,
   "id": "0791d418-3f48-4487-a6a1-d5a420039ead",
   "metadata": {},
   "outputs": [
    {
     "data": {
      "text/plain": [
       "<tf.Tensor: shape=(4, 4), dtype=float32, numpy=\n",
       "array([[7., 1., 5., 6.],\n",
       "       [7., 1., 1., 4.],\n",
       "       [3., 2., 1., 4.],\n",
       "       [1., 2., 0., 4.]], dtype=float32)>"
      ]
     },
     "execution_count": 8,
     "metadata": {},
     "output_type": "execute_result"
    }
   ],
   "source": [
    "\n",
    "# Generate a random tensor following a Poisson distribution\n",
    "poisson_random_tensor = tf.random.poisson(\n",
    "                                                shape=(4, 4),\n",
    "                                                lam=3.0,\n",
    "                                                dtype=tf.dtypes.float32,\n",
    "                                                seed=None,\n",
    "                                                name=None\n",
    "                                            )\n",
    "\n",
    "poisson_random_tensor\n"
   ]
  },
  {
   "cell_type": "code",
   "execution_count": 9,
   "id": "ff0b1fb5-6b4c-4c03-9617-1d637b3ec950",
   "metadata": {},
   "outputs": [
    {
     "data": {
      "text/plain": [
       "<tf.Tensor: shape=(3, 3), dtype=int32, numpy=\n",
       "array([[7, 6, 6],\n",
       "       [6, 9, 5],\n",
       "       [0, 6, 3]], dtype=int32)>"
      ]
     },
     "execution_count": 9,
     "metadata": {},
     "output_type": "execute_result"
    }
   ],
   "source": [
    "# Generate a random tensor following a uniform distribution within a specified range\n",
    "uniform_random_tensor = tf.random.uniform(\n",
    "                                            shape=(3, 3),          # Shape of the tensor: 3 rows, 3 columns\n",
    "                                            minval=0,              # Minimum value of the uniform distribution\n",
    "                                            maxval=10,             # Maximum value of the uniform distribution\n",
    "                                            dtype=tf.dtypes.int32,  # Data type of the tensor elements\n",
    "                                            seed=None,             # Seed for reproducibility (optional)\n",
    "                                            name=None              # Optional name for the operation\n",
    "                                        )\n",
    "\n",
    "uniform_random_tensor\n"
   ]
  },
  {
   "cell_type": "code",
   "execution_count": null,
   "id": "a67e182a-d44f-4097-8f45-bb5bd2c13157",
   "metadata": {},
   "outputs": [],
   "source": []
  }
 ],
 "metadata": {
  "kernelspec": {
   "display_name": "tfenv",
   "language": "python",
   "name": "myenv"
  },
  "language_info": {
   "codemirror_mode": {
    "name": "ipython",
    "version": 3
   },
   "file_extension": ".py",
   "mimetype": "text/x-python",
   "name": "python",
   "nbconvert_exporter": "python",
   "pygments_lexer": "ipython3",
   "version": "3.7.16"
  }
 },
 "nbformat": 4,
 "nbformat_minor": 5
}
