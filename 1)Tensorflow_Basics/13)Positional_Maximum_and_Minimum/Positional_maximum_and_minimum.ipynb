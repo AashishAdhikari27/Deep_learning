{
 "cells": [
  {
   "cell_type": "markdown",
   "id": "0afafac1-6fd3-4802-9773-bad68da312a4",
   "metadata": {},
   "source": [
    "## Finding positional maximum and minimum"
   ]
  },
  {
   "cell_type": "code",
   "execution_count": 2,
   "id": "4ea10f15-fd93-435a-8f1c-8b7fd1e96aa1",
   "metadata": {},
   "outputs": [],
   "source": [
    "\n",
    "import tensorflow as tf \n"
   ]
  },
  {
   "cell_type": "code",
   "execution_count": 4,
   "id": "b14880f5-83d6-4187-9d07-f54c0ea6ff0a",
   "metadata": {},
   "outputs": [
    {
     "data": {
      "text/plain": [
       "<tf.Tensor: shape=(50,), dtype=float32, numpy=\n",
       "array([0.882251  , 0.61000276, 0.8397982 , 0.5120745 , 0.46924102,\n",
       "       0.79902613, 0.8731812 , 0.09201634, 0.35981095, 0.41347384,\n",
       "       0.8511441 , 0.1114521 , 0.08448577, 0.4959252 , 0.17486095,\n",
       "       0.46399856, 0.72555065, 0.75357735, 0.96474004, 0.01571906,\n",
       "       0.24592948, 0.33048368, 0.11296844, 0.7696165 , 0.24774325,\n",
       "       0.18519688, 0.9691967 , 0.90434706, 0.66431105, 0.04224312,\n",
       "       0.51676965, 0.5661807 , 0.03556287, 0.61319935, 0.6444652 ,\n",
       "       0.7439474 , 0.22479272, 0.21055233, 0.73312354, 0.17941272,\n",
       "       0.45505226, 0.78782356, 0.08053803, 0.66451895, 0.7171974 ,\n",
       "       0.6374451 , 0.54298747, 0.35707426, 0.46476662, 0.08424962],\n",
       "      dtype=float32)>"
      ]
     },
     "execution_count": 4,
     "metadata": {},
     "output_type": "execute_result"
    }
   ],
   "source": [
    "\n",
    "# Creating a random tensor to find its positional maximum and minimum \n",
    "\n",
    "F = tf.random.uniform(shape = [50])\n",
    "\n",
    "F\n"
   ]
  },
  {
   "cell_type": "code",
   "execution_count": 6,
   "id": "3932ffdc-b8ca-4232-88ea-cca76b0c51b8",
   "metadata": {},
   "outputs": [
    {
     "data": {
      "text/plain": [
       "<tf.Tensor: shape=(), dtype=int64, numpy=26>"
      ]
     },
     "execution_count": 6,
     "metadata": {},
     "output_type": "execute_result"
    }
   ],
   "source": [
    "\n",
    "# finding the positional maximum \n",
    "\n",
    "tf.argmax(F)\n"
   ]
  },
  {
   "cell_type": "code",
   "execution_count": 8,
   "id": "9eaa683d-078c-4f65-8705-5704153fec8b",
   "metadata": {},
   "outputs": [
    {
     "data": {
      "text/plain": [
       "<tf.Tensor: shape=(), dtype=float32, numpy=0.9691967>"
      ]
     },
     "execution_count": 8,
     "metadata": {},
     "output_type": "execute_result"
    }
   ],
   "source": [
    "\n",
    "# max value vako index hereko \n",
    "\n",
    "F[tf.argmax(F)]"
   ]
  },
  {
   "cell_type": "code",
   "execution_count": 9,
   "id": "50501e00-bfb5-4e60-a7e1-fcea476a5ddf",
   "metadata": {},
   "outputs": [
    {
     "data": {
      "text/plain": [
       "<tf.Tensor: shape=(), dtype=float32, numpy=0.9691967>"
      ]
     },
     "execution_count": 9,
     "metadata": {},
     "output_type": "execute_result"
    }
   ],
   "source": [
    "\n",
    "# maximum value in tensor abs\n",
    "\n",
    "tf.reduce_max(F)\n"
   ]
  },
  {
   "cell_type": "code",
   "execution_count": 11,
   "id": "fba5b0b6-9082-476e-9d9f-e36b6e297875",
   "metadata": {},
   "outputs": [
    {
     "data": {
      "text/plain": [
       "<tf.Tensor: shape=(), dtype=bool, numpy=True>"
      ]
     },
     "execution_count": 11,
     "metadata": {},
     "output_type": "execute_result"
    }
   ],
   "source": [
    "\n",
    "# answer thik aayo ki nai vanera check gareko\n",
    "\n",
    "F[tf.argmax(F)] == tf.reduce_max(F)"
   ]
  },
  {
   "cell_type": "code",
   "execution_count": 12,
   "id": "010e0c21-fa4d-496f-a576-ec5723f22e86",
   "metadata": {},
   "outputs": [
    {
     "data": {
      "text/plain": [
       "<tf.Tensor: shape=(), dtype=int64, numpy=19>"
      ]
     },
     "execution_count": 12,
     "metadata": {},
     "output_type": "execute_result"
    }
   ],
   "source": [
    "\n",
    "# finding the positional minimum\n",
    "\n",
    "tf.argmin(F)\n"
   ]
  },
  {
   "cell_type": "code",
   "execution_count": 13,
   "id": "740a0146-c659-44df-bff7-ad6e09d30e02",
   "metadata": {},
   "outputs": [
    {
     "data": {
      "text/plain": [
       "<tf.Tensor: shape=(), dtype=float32, numpy=0.015719056>"
      ]
     },
     "execution_count": 13,
     "metadata": {},
     "output_type": "execute_result"
    }
   ],
   "source": [
    "\n",
    "F[tf.argmin(F)]\n"
   ]
  },
  {
   "cell_type": "code",
   "execution_count": null,
   "id": "47a17f1a-2b87-4888-8e7c-edad69a458ca",
   "metadata": {},
   "outputs": [],
   "source": []
  }
 ],
 "metadata": {
  "kernelspec": {
   "display_name": "tfenv",
   "language": "python",
   "name": "myenv"
  },
  "language_info": {
   "codemirror_mode": {
    "name": "ipython",
    "version": 3
   },
   "file_extension": ".py",
   "mimetype": "text/x-python",
   "name": "python",
   "nbconvert_exporter": "python",
   "pygments_lexer": "ipython3",
   "version": "3.7.16"
  }
 },
 "nbformat": 4,
 "nbformat_minor": 5
}
