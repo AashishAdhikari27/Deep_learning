{
 "cells": [
  {
   "cell_type": "markdown",
   "id": "61cacfdb-169d-48f5-bc63-81efd2b1986e",
   "metadata": {},
   "source": [
    "# Expanding tensors :-"
   ]
  },
  {
   "cell_type": "code",
   "execution_count": 6,
   "id": "923ec604-b45f-4454-9ca1-4b8b872ab10c",
   "metadata": {},
   "outputs": [
    {
     "name": "stdout",
     "output_type": "stream",
     "text": [
      "2.10.0\n"
     ]
    }
   ],
   "source": [
    "\n",
    "import tensorflow as tf\n",
    "print(tf.__version__)\n"
   ]
  },
  {
   "cell_type": "code",
   "execution_count": 7,
   "id": "fe13ea77-0617-4ff8-aa97-8ff6a8b9e57e",
   "metadata": {},
   "outputs": [
    {
     "data": {
      "text/plain": [
       "<tf.Tensor: shape=(2, 2), dtype=int32, numpy=\n",
       "array([[4, 7],\n",
       "       [5, 8]], dtype=int32)>"
      ]
     },
     "execution_count": 7,
     "metadata": {},
     "output_type": "execute_result"
    }
   ],
   "source": [
    "\n",
    "# Creating a rank 2 (dui ota dimension bhako ) tensor \n",
    "\n",
    "rank_2_tensor = tf.constant([ [4,7],\n",
    "                              [5,8]\n",
    "                            ])\n",
    "rank_2_tensor \n"
   ]
  },
  {
   "cell_type": "code",
   "execution_count": 3,
   "id": "4e95559a-6f7e-4c56-8a7a-91767fbd3227",
   "metadata": {},
   "outputs": [
    {
     "data": {
      "text/plain": [
       "<tf.Tensor: shape=(2, 2, 1), dtype=int32, numpy=\n",
       "array([[[4],\n",
       "        [7]],\n",
       "\n",
       "       [[5],\n",
       "        [8]]], dtype=int32)>"
      ]
     },
     "execution_count": 3,
     "metadata": {},
     "output_type": "execute_result"
    }
   ],
   "source": [
    "\n",
    "# rank_2_tensor maa extra dimension thapdai\n",
    "\n",
    "rank_3_tensor = rank_2_tensor[... , tf.newaxis]\n",
    "\n",
    "rank_3_tensor\n"
   ]
  },
  {
   "cell_type": "markdown",
   "id": "ac02a26e-5aa8-4963-8a4e-0799b72853b4",
   "metadata": {},
   "source": [
    "# Another way to expand tensor"
   ]
  },
  {
   "cell_type": "markdown",
   "id": "df6316dc-b78d-40bb-8bf1-43537acc1e20",
   "metadata": {},
   "source": [
    "## --> using tf.expand_dims method:-"
   ]
  },
  {
   "cell_type": "code",
   "execution_count": 4,
   "id": "9577bb12-461e-482d-8cdc-87dd6011553d",
   "metadata": {},
   "outputs": [
    {
     "data": {
      "text/plain": [
       "<tf.Tensor: shape=(2, 2, 1), dtype=int32, numpy=\n",
       "array([[[4],\n",
       "        [7]],\n",
       "\n",
       "       [[5],\n",
       "        [8]]], dtype=int32)>"
      ]
     },
     "execution_count": 4,
     "metadata": {},
     "output_type": "execute_result"
    }
   ],
   "source": [
    "\n",
    "tf.expand_dims(rank_2_tensor , axis = -1)\n",
    "\n",
    "# -1 vaneko last axis expand gareko"
   ]
  },
  {
   "cell_type": "code",
   "execution_count": 5,
   "id": "caf7349d-e994-400a-87f3-b9e855cfa31a",
   "metadata": {},
   "outputs": [
    {
     "data": {
      "text/plain": [
       "<tf.Tensor: shape=(1, 2, 2), dtype=int32, numpy=\n",
       "array([[[4, 7],\n",
       "        [5, 8]]], dtype=int32)>"
      ]
     },
     "execution_count": 5,
     "metadata": {},
     "output_type": "execute_result"
    }
   ],
   "source": [
    "\n",
    "tf.expand_dims(rank_2_tensor , axis = 0)\n",
    "\n",
    "# suru maa (0th index maa) extra dimension add garxa\n"
   ]
  },
  {
   "cell_type": "code",
   "execution_count": null,
   "id": "14376613-ece6-4faf-b4fc-146418a91319",
   "metadata": {},
   "outputs": [],
   "source": []
  }
 ],
 "metadata": {
  "kernelspec": {
   "display_name": "tfenv",
   "language": "python",
   "name": "myenv"
  },
  "language_info": {
   "codemirror_mode": {
    "name": "ipython",
    "version": 3
   },
   "file_extension": ".py",
   "mimetype": "text/x-python",
   "name": "python",
   "nbconvert_exporter": "python",
   "pygments_lexer": "ipython3",
   "version": "3.7.16"
  }
 },
 "nbformat": 4,
 "nbformat_minor": 5
}
