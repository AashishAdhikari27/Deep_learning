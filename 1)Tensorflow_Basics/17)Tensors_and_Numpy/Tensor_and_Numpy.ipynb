{
 "cells": [
  {
   "cell_type": "markdown",
   "id": "6248aeb1-afac-4559-83f6-828f198c69c7",
   "metadata": {},
   "source": [
    "\n",
    "# Tensors and numpy \n",
    "\n",
    "\n",
    "We've seen some examples of tensors interact with NumPy arrays, such as, using NumPy arrays to create tensors.\n",
    "\n",
    "Tensors can also be converted to NumPy arrays using:\n",
    "\n",
    "    np.array() - pass a tensor to convert to an ndarray (NumPy's main datatype).\n",
    "    tensor.numpy() - call on a tensor to convert to an ndarray.\n",
    "\n",
    "Doing this is helpful as it makes tensors iterable as well as allows us to use any of NumPy's methods on them.\n"
   ]
  },
  {
   "cell_type": "code",
   "execution_count": 1,
   "id": "f67bd6b2-714e-4a17-b8e4-d2742d4ac3cc",
   "metadata": {},
   "outputs": [
    {
     "name": "stderr",
     "output_type": "stream",
     "text": [
      "2023-08-14 17:44:21.104813: I tensorflow/core/platform/cpu_feature_guard.cc:193] This TensorFlow binary is optimized with oneAPI Deep Neural Network Library (oneDNN) to use the following CPU instructions in performance-critical operations:  SSE4.1 SSE4.2\n",
      "To enable them in other operations, rebuild TensorFlow with the appropriate compiler flags.\n"
     ]
    },
    {
     "data": {
      "text/plain": [
       "'2.10.0'"
      ]
     },
     "execution_count": 1,
     "metadata": {},
     "output_type": "execute_result"
    }
   ],
   "source": [
    "\n",
    "import tensorflow as tf \n",
    "\n",
    "tf.__version__\n"
   ]
  },
  {
   "cell_type": "code",
   "execution_count": 3,
   "id": "cf40c86a-932c-4d5d-992d-6d5bf36300a0",
   "metadata": {},
   "outputs": [
    {
     "name": "stderr",
     "output_type": "stream",
     "text": [
      "2023-08-14 17:47:04.054542: I tensorflow/core/platform/cpu_feature_guard.cc:193] This TensorFlow binary is optimized with oneAPI Deep Neural Network Library (oneDNN) to use the following CPU instructions in performance-critical operations:  SSE4.1 SSE4.2\n",
      "To enable them in other operations, rebuild TensorFlow with the appropriate compiler flags.\n",
      "2023-08-14 17:47:04.446139: I tensorflow/core/common_runtime/process_util.cc:146] Creating new thread pool with default inter op setting: 2. Tune using inter_op_parallelism_threads for best performance.\n"
     ]
    },
    {
     "data": {
      "text/plain": [
       "<tf.Tensor: shape=(3,), dtype=float64, numpy=array([ 3.,  7., 11.])>"
      ]
     },
     "execution_count": 3,
     "metadata": {},
     "output_type": "execute_result"
    }
   ],
   "source": [
    "\n",
    "# creating a tensor directly from numpy array\n",
    "\n",
    "import numpy as np\n",
    "\n",
    "A = tf.constant(np.array([3. , 7. , 11. ]))\n",
    "\n",
    "A\n"
   ]
  },
  {
   "cell_type": "code",
   "execution_count": 4,
   "id": "684be72f-68d2-4d78-b14c-ac3e1fa6c34b",
   "metadata": {},
   "outputs": [
    {
     "data": {
      "text/plain": [
       "(array([ 3.,  7., 11.]), numpy.ndarray)"
      ]
     },
     "execution_count": 4,
     "metadata": {},
     "output_type": "execute_result"
    }
   ],
   "source": [
    "\n",
    "# coverting the tensors into numpy array \n",
    "\n",
    "np.array(A) , type(np.array(A))"
   ]
  },
  {
   "cell_type": "code",
   "execution_count": 5,
   "id": "7cc58b49-63e7-4e63-921f-09a646959982",
   "metadata": {},
   "outputs": [
    {
     "data": {
      "text/plain": [
       "(array([ 3.,  7., 11.]), numpy.ndarray)"
      ]
     },
     "execution_count": 5,
     "metadata": {},
     "output_type": "execute_result"
    }
   ],
   "source": [
    "\n",
    "# converting our tensor A into numpy array\n",
    "\n",
    "A.numpy() , type(A.numpy())"
   ]
  },
  {
   "cell_type": "code",
   "execution_count": 6,
   "id": "29c8988d-36db-4dbd-b6d7-1c77c201b120",
   "metadata": {},
   "outputs": [
    {
     "data": {
      "text/plain": [
       "(tf.float64, tf.float32)"
      ]
     },
     "execution_count": 6,
     "metadata": {},
     "output_type": "execute_result"
    }
   ],
   "source": [
    "\n",
    "# Create a tensor from NumPy and from an array\n",
    "\n",
    "numpy_A = tf.constant(np.array([3., 7., 10.])) # will be float64 (due to NumPy)\n",
    "\n",
    "tensor_A = tf.constant([3., 7., 10.]) # will be float32 (due to being TensorFlow default)\n",
    "\n",
    "numpy_A.dtype, tensor_A.dtype\n",
    "     "
   ]
  },
  {
   "cell_type": "code",
   "execution_count": null,
   "id": "950b58e1-7c57-44db-9dd1-6062bc97ff4c",
   "metadata": {},
   "outputs": [],
   "source": []
  }
 ],
 "metadata": {
  "kernelspec": {
   "display_name": "tfenv",
   "language": "python",
   "name": "myenv"
  },
  "language_info": {
   "codemirror_mode": {
    "name": "ipython",
    "version": 3
   },
   "file_extension": ".py",
   "mimetype": "text/x-python",
   "name": "python",
   "nbconvert_exporter": "python",
   "pygments_lexer": "ipython3",
   "version": "3.7.16"
  }
 },
 "nbformat": 4,
 "nbformat_minor": 5
}
