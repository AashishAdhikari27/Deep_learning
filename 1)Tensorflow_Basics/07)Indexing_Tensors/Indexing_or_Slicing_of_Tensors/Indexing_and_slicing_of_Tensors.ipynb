{
 "cells": [
  {
   "cell_type": "markdown",
   "id": "aa9c8066-cd99-46a5-9811-47684a3c5e19",
   "metadata": {},
   "source": [
    "# Indexing :-"
   ]
  },
  {
   "cell_type": "code",
   "execution_count": 2,
   "id": "10b84f66-82f2-490d-856b-8c82c28bb6be",
   "metadata": {},
   "outputs": [
    {
     "name": "stdout",
     "output_type": "stream",
     "text": [
      "2.10.0\n"
     ]
    }
   ],
   "source": [
    "\n",
    "import tensorflow as tf\n",
    "\n",
    "print(tf.__version__)"
   ]
  },
  {
   "cell_type": "markdown",
   "id": "204bb12b-8fbd-45dc-a3ee-b6093c1ec97b",
   "metadata": {},
   "source": [
    "# 1) 1D tensor (vector)"
   ]
  },
  {
   "cell_type": "code",
   "execution_count": 5,
   "id": "cd3d4674-f388-432e-a7c7-90e38797b7fc",
   "metadata": {},
   "outputs": [
    {
     "data": {
      "text/plain": [
       "<tf.Tensor: shape=(10,), dtype=int32, numpy=array([ 1,  2,  3,  4,  5,  6,  7,  8,  9, 10], dtype=int32)>"
      ]
     },
     "execution_count": 5,
     "metadata": {},
     "output_type": "execute_result"
    }
   ],
   "source": [
    "\n",
    "# Creating a 1D tensor (vector)\n",
    "\n",
    "tensor_1d = tf.constant([1, 2, 3, 4, 5, 6, 7, 8, 9, 10])\n",
    "\n",
    "tensor_1d\n"
   ]
  },
  {
   "cell_type": "code",
   "execution_count": 7,
   "id": "9ea1e649-fef7-4751-ab76-9c633feeab33",
   "metadata": {},
   "outputs": [
    {
     "data": {
      "text/plain": [
       "(<tf.Tensor: shape=(), dtype=int32, numpy=4>,\n",
       " <tf.Tensor: shape=(4,), dtype=int32, numpy=array([3, 4, 5, 6], dtype=int32)>)"
      ]
     },
     "execution_count": 7,
     "metadata": {},
     "output_type": "execute_result"
    }
   ],
   "source": [
    "\n",
    "# Indexing\n",
    "element = tensor_1d[3]  # Accesses the fourth element (index 3)\n",
    "\n",
    "# Slicing\n",
    "sub_tensor = tensor_1d[2:6]  # Extracts elements from index 2 to 5\n",
    "\n",
    "element,sub_tensor\n"
   ]
  },
  {
   "cell_type": "markdown",
   "id": "011871bb-8ca6-4f90-bf6a-1b3735fa487f",
   "metadata": {},
   "source": [
    "# 2) 2D tensor (matrix)"
   ]
  },
  {
   "cell_type": "code",
   "execution_count": 9,
   "id": "682e9e7c-aa84-4629-8e82-a1e9b76c29b7",
   "metadata": {},
   "outputs": [
    {
     "data": {
      "text/plain": [
       "<tf.Tensor: shape=(3, 3), dtype=int32, numpy=\n",
       "array([[1, 2, 3],\n",
       "       [4, 5, 6],\n",
       "       [7, 8, 9]], dtype=int32)>"
      ]
     },
     "execution_count": 9,
     "metadata": {},
     "output_type": "execute_result"
    }
   ],
   "source": [
    "\n",
    "# Creating a 2D tensor (matrix)\n",
    "\n",
    "tensor_2d = tf.constant([ [1, 2, 3],\n",
    "                          [4, 5, 6],\n",
    "                          [7, 8, 9]\n",
    "                       ])\n",
    "\n",
    "tensor_2d\n"
   ]
  },
  {
   "cell_type": "code",
   "execution_count": 10,
   "id": "b3d94ef3-054d-4313-8980-c256e762820d",
   "metadata": {},
   "outputs": [
    {
     "data": {
      "text/plain": [
       "(<tf.Tensor: shape=(), dtype=int32, numpy=6>,\n",
       " <tf.Tensor: shape=(3,), dtype=int32, numpy=array([1, 2, 3], dtype=int32)>,\n",
       " <tf.Tensor: shape=(3,), dtype=int32, numpy=array([2, 5, 8], dtype=int32)>,\n",
       " <tf.Tensor: shape=(2, 2), dtype=int32, numpy=\n",
       " array([[4, 5],\n",
       "        [7, 8]], dtype=int32)>)"
      ]
     },
     "execution_count": 10,
     "metadata": {},
     "output_type": "execute_result"
    }
   ],
   "source": [
    "\n",
    "# Indexing\n",
    "element = tensor_2d[1, 2]  # Accesses element at row 1, column 2 (6)\n",
    "\n",
    "# Slicing\n",
    "row_slice = tensor_2d[0, :]   # first row extract garxa\n",
    "\n",
    "column_slice = tensor_2d[:, 1]  # second column extract garxa\n",
    "\n",
    "sub_tensor = tensor_2d[1:3, 0:2]  # row 1 ra 2 vako ani column 0 ra 1 vako euta subtensor extract garxa\n",
    "\n",
    "element , row_slice , column_slice , sub_tensor\n"
   ]
  },
  {
   "cell_type": "markdown",
   "id": "6d2c53e5-e8a0-47cf-a1be-14db7fc4b7b2",
   "metadata": {},
   "source": [
    "# 3) 3D tensor :-"
   ]
  },
  {
   "cell_type": "code",
   "execution_count": 11,
   "id": "60a14cf3-96eb-4086-80e5-057b77c47048",
   "metadata": {},
   "outputs": [
    {
     "data": {
      "text/plain": [
       "<tf.Tensor: shape=(2, 2, 3), dtype=int32, numpy=\n",
       "array([[[ 1,  2,  3],\n",
       "        [ 4,  5,  6]],\n",
       "\n",
       "       [[ 7,  8,  9],\n",
       "        [10, 11, 12]]], dtype=int32)>"
      ]
     },
     "execution_count": 11,
     "metadata": {},
     "output_type": "execute_result"
    }
   ],
   "source": [
    "\n",
    "# Creating a 3D tensor\n",
    "\n",
    "tensor_3d = tf.constant([\n",
    "                          [[1, 2, 3],\n",
    "                          [4, 5, 6]],\n",
    "                          [[7, 8, 9],\n",
    "                          [10, 11, 12]]\n",
    "                        ])\n",
    "tensor_3d\n"
   ]
  },
  {
   "cell_type": "code",
   "execution_count": 13,
   "id": "28aa2e3d-b75d-432f-a65b-cc7f93cc8de9",
   "metadata": {},
   "outputs": [
    {
     "data": {
      "text/plain": [
       "(<tf.Tensor: shape=(), dtype=int32, numpy=9>,\n",
       " <tf.Tensor: shape=(2, 1), dtype=int32, numpy=\n",
       " array([[ 4],\n",
       "        [10]], dtype=int32)>)"
      ]
     },
     "execution_count": 13,
     "metadata": {},
     "output_type": "execute_result"
    }
   ],
   "source": [
    "\n",
    "\n",
    "# Indexing\n",
    "element_2 = tensor_3d[1, 0, 2]  # Accesses element at index (1, 0, 2)\n",
    "\n",
    "# Slicing\n",
    "sub_tensor_2 = tensor_3d[:, 1:2, 0]  # Extracts sub-tensor along the first axis, rows 1 to 2, column 0\n",
    "\n",
    "element_2 , sub_tensor_2\n"
   ]
  },
  {
   "cell_type": "markdown",
   "id": "8662aa3b-c134-48d3-bc2e-4b42548a73c6",
   "metadata": {
    "tags": []
   },
   "source": [
    "# 4) 4D Tensor:-"
   ]
  },
  {
   "cell_type": "code",
   "execution_count": 14,
   "id": "5ad616e9-6b8f-431b-98d6-d19d124ab5bf",
   "metadata": {},
   "outputs": [
    {
     "data": {
      "text/plain": [
       "(<tf.Tensor: shape=(2, 2, 2, 2), dtype=int32, numpy=\n",
       " array([[[[ 1,  2],\n",
       "          [ 3,  4]],\n",
       " \n",
       "         [[ 5,  6],\n",
       "          [ 7,  8]]],\n",
       " \n",
       " \n",
       "        [[[ 9, 10],\n",
       "          [11, 12]],\n",
       " \n",
       "         [[13, 14],\n",
       "          [15, 16]]]], dtype=int32)>,\n",
       " <tf.Tensor: shape=(), dtype=int32, numpy=12>,\n",
       " <tf.Tensor: shape=(2, 2, 2), dtype=int32, numpy=\n",
       " array([[[ 3,  4],\n",
       "         [ 7,  8]],\n",
       " \n",
       "        [[11, 12],\n",
       "         [15, 16]]], dtype=int32)>)"
      ]
     },
     "execution_count": 14,
     "metadata": {},
     "output_type": "execute_result"
    }
   ],
   "source": [
    "\n",
    "# Creating a 4D tensor\n",
    "tensor_4d = tf.constant([\n",
    "                           [[[1, 2],\n",
    "                           [3, 4]], \n",
    "                           [[5, 6],\n",
    "                           [7, 8]]], \n",
    "                           [[[9, 10], \n",
    "                           [11, 12]],\n",
    "                           [[13, 14], \n",
    "                           [15, 16]]]\n",
    "                        ])\n",
    "\n",
    "# Indexing\n",
    "element_4d = tensor_4d[1, 0, 1, 1]  # Accesses element at index (1, 0, 1, 1)\n",
    "\n",
    "# Slicing\n",
    "sub_tensor_4d = tensor_4d[0:2, :, 1, 0:2]  # Extracts sub-tensor along first axis, all rows, column 1, columns 0 to 1\n",
    "\n",
    "tensor_4d ,element_4d , sub_tensor_4d\n"
   ]
  },
  {
   "cell_type": "markdown",
   "id": "dce510cd-591e-4804-a592-42a8a510c0e2",
   "metadata": {},
   "source": [
    "# 5) 5D tensor :-"
   ]
  },
  {
   "cell_type": "code",
   "execution_count": 15,
   "id": "b4c1e43e-5ada-499b-a7a6-42424e83de48",
   "metadata": {},
   "outputs": [
    {
     "data": {
      "text/plain": [
       "(<tf.Tensor: shape=(2, 2, 2, 2, 2), dtype=int32, numpy=\n",
       " array([[[[[ 1,  2],\n",
       "           [ 3,  4]],\n",
       " \n",
       "          [[ 5,  6],\n",
       "           [ 7,  8]]],\n",
       " \n",
       " \n",
       "         [[[ 9, 10],\n",
       "           [11, 12]],\n",
       " \n",
       "          [[13, 14],\n",
       "           [15, 16]]]],\n",
       " \n",
       " \n",
       " \n",
       "        [[[[17, 18],\n",
       "           [19, 20]],\n",
       " \n",
       "          [[21, 22],\n",
       "           [23, 24]]],\n",
       " \n",
       " \n",
       "         [[[25, 26],\n",
       "           [27, 28]],\n",
       " \n",
       "          [[29, 30],\n",
       "           [31, 32]]]]], dtype=int32)>,\n",
       " <tf.Tensor: shape=(), dtype=int32, numpy=23>,\n",
       " <tf.Tensor: shape=(2, 2, 2), dtype=int32, numpy=\n",
       " array([[[ 5,  6],\n",
       "         [13, 14]],\n",
       " \n",
       "        [[21, 22],\n",
       "         [29, 30]]], dtype=int32)>)"
      ]
     },
     "execution_count": 15,
     "metadata": {},
     "output_type": "execute_result"
    }
   ],
   "source": [
    "\n",
    "# Creating a 5D tensor\n",
    "\n",
    "tensor_5d = tf.constant([\n",
    "                           [[[ [1, 2] , [3, 4]] , [[5, 6] , [7, 8] ]],\n",
    "                           [[[9, 10], [11, 12]], [[13, 14], [15, 16]]]],\n",
    "                          [[[[17, 18], [19, 20]], [[21, 22], [23, 24]]],\n",
    "                           [[[25, 26], [27, 28]], [[29, 30], [31, 32]]]]\n",
    "                         ])\n",
    "\n",
    "# Indexing\n",
    "element_5d = tensor_5d[1, 0, 1, 1, 0]  # Accesses element at index (1, 0, 1, 1, 0)\n",
    "\n",
    "# Slicing\n",
    "sub_tensor_5d = tensor_5d[:, 0:2, 1, 0, :]  # Extracts sub-tensor along first axis, rows 0 to 1, column 1, all along the last axis\n",
    "\n",
    "tensor_5d , element_5d , sub_tensor_5d"
   ]
  },
  {
   "cell_type": "code",
   "execution_count": null,
   "id": "757287d8-dbbb-4a10-9c2c-8226d8095eae",
   "metadata": {},
   "outputs": [],
   "source": []
  }
 ],
 "metadata": {
  "kernelspec": {
   "display_name": "tfenv",
   "language": "python",
   "name": "myenv"
  },
  "language_info": {
   "codemirror_mode": {
    "name": "ipython",
    "version": 3
   },
   "file_extension": ".py",
   "mimetype": "text/x-python",
   "name": "python",
   "nbconvert_exporter": "python",
   "pygments_lexer": "ipython3",
   "version": "3.7.16"
  }
 },
 "nbformat": 4,
 "nbformat_minor": 5
}
